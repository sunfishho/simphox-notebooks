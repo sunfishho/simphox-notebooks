{
 "cells": [
  {
   "cell_type": "markdown",
   "id": "9425075a-d65a-44a0-8daa-0a6d1cd730b0",
   "metadata": {},
   "source": [
    "# Scalability of *in situ* backpropagation\n",
    "\n",
    "In this notebook, we explore the scalability of *in situ* backpropagation as it pertains to the tradeoff between noise and energy efficiency and latency of photonic devices. \n",
    "- As far as scalability of the photonic advantage, we do our best to incorporate all of the different elements that contribute to the total energy consumption in the hybrid photonic neural network design, dominated by optoelectronic conversions and signal amplification, and any assumptions for this calculation are provided in the main text and/or Supplementary Material of the paper.\n",
    "- As far as noise error scaling, we explore the tradeoffs of various errors (e.g., systematic in the various photonic elements and random noise at the photodetector). We then perform large-scale simulations on MNIST data to show that realistic problems can be solved using our approach in the presence of error.\n",
    "\n"
   ]
  },
  {
   "cell_type": "code",
   "execution_count": 2,
   "id": "6f69805b-3389-4631-a951-df5ebcec6b92",
   "metadata": {},
   "outputs": [],
   "source": [
    "%load_ext autoreload\n",
    "%autoreload 2"
   ]
  },
  {
   "cell_type": "code",
   "execution_count": 3,
   "id": "5cd956c6-1e4c-4a4f-89b3-96c99e5eeabd",
   "metadata": {},
   "outputs": [
    {
     "name": "stdout",
     "output_type": "stream",
     "text": [
      "Requirement already satisfied: simphox in /Users/matthewho/Photonic_computing/photonics_env/lib/python3.10/site-packages/simphox-0.0.1a8-py3.10.egg (0.0.1a8)\n",
      "Requirement already satisfied: numpy in /Users/matthewho/Photonic_computing/photonics_env/lib/python3.10/site-packages (from simphox) (1.24.3)\n",
      "Requirement already satisfied: scipy in /Users/matthewho/Photonic_computing/photonics_env/lib/python3.10/site-packages (from simphox) (1.10.1)\n",
      "Requirement already satisfied: pandas in /Users/matthewho/Photonic_computing/photonics_env/lib/python3.10/site-packages/pandas-2.0.2-py3.10-macosx-12-arm64.egg (from simphox) (2.0.2)\n",
      "Requirement already satisfied: jaxlib in /Users/matthewho/Photonic_computing/photonics_env/lib/python3.10/site-packages/jaxlib-0.4.12-py3.10-macosx-12-arm64.egg (from simphox) (0.4.12)\n",
      "Requirement already satisfied: jax in /Users/matthewho/Photonic_computing/photonics_env/lib/python3.10/site-packages/jax-0.4.12-py3.10.egg (from simphox) (0.4.12)\n",
      "Requirement already satisfied: scikit-image in /Users/matthewho/Photonic_computing/photonics_env/lib/python3.10/site-packages/scikit_image-0.21.0-py3.10-macosx-12-arm64.egg (from simphox) (0.21.0)\n",
      "Requirement already satisfied: pydantic in /Users/matthewho/Photonic_computing/photonics_env/lib/python3.10/site-packages/pydantic-2.0b3-py3.10.egg (from simphox) (2.0b3)\n",
      "Requirement already satisfied: xarray in /Users/matthewho/Photonic_computing/photonics_env/lib/python3.10/site-packages/xarray-2023.5.0-py3.10.egg (from simphox) (2023.5.0)\n",
      "Requirement already satisfied: dm-haiku in /Users/matthewho/Photonic_computing/photonics_env/lib/python3.10/site-packages/dm_haiku-0.0.9-py3.10.egg (from simphox) (0.0.9)\n",
      "Requirement already satisfied: absl-py in /Users/matthewho/Photonic_computing/photonics_env/lib/python3.10/site-packages (from simphox) (1.4.0)\n",
      "Requirement already satisfied: jmp>=0.0.2 in /Users/matthewho/Photonic_computing/photonics_env/lib/python3.10/site-packages/jmp-0.0.4-py3.10.egg (from dm-haiku->simphox) (0.0.4)\n",
      "Requirement already satisfied: tabulate>=0.8.9 in /Users/matthewho/Photonic_computing/photonics_env/lib/python3.10/site-packages/tabulate-0.9.0-py3.10.egg (from dm-haiku->simphox) (0.9.0)\n",
      "Requirement already satisfied: ml_dtypes>=0.1.0 in /Users/matthewho/Photonic_computing/photonics_env/lib/python3.10/site-packages/ml_dtypes-0.2.0-py3.10-macosx-12-arm64.egg (from jax->simphox) (0.2.0)\n",
      "Requirement already satisfied: opt_einsum in /Users/matthewho/Photonic_computing/photonics_env/lib/python3.10/site-packages (from jax->simphox) (3.3.0)\n",
      "Requirement already satisfied: python-dateutil>=2.8.2 in /Users/matthewho/Photonic_computing/photonics_env/lib/python3.10/site-packages/python_dateutil-2.8.2-py3.10.egg (from pandas->simphox) (2.8.2)\n",
      "Requirement already satisfied: pytz>=2020.1 in /Users/matthewho/Photonic_computing/photonics_env/lib/python3.10/site-packages/pytz-2023.3-py3.10.egg (from pandas->simphox) (2023.3)\n",
      "Requirement already satisfied: tzdata>=2022.1 in /Users/matthewho/Photonic_computing/photonics_env/lib/python3.10/site-packages/tzdata-2023.3-py3.10.egg (from pandas->simphox) (2023.3)\n",
      "Requirement already satisfied: annotated-types>=0.4.0 in /Users/matthewho/Photonic_computing/photonics_env/lib/python3.10/site-packages/annotated_types-0.5.0-py3.10.egg (from pydantic->simphox) (0.5.0)\n",
      "Requirement already satisfied: pydantic-core==0.39.0 in /Users/matthewho/Photonic_computing/photonics_env/lib/python3.10/site-packages/pydantic_core-0.39.0-py3.10-macosx-12-arm64.egg (from pydantic->simphox) (0.39.0)\n",
      "Requirement already satisfied: typing-extensions>=4.6.1 in /Users/matthewho/Photonic_computing/photonics_env/lib/python3.10/site-packages (from pydantic->simphox) (4.6.3)\n",
      "Requirement already satisfied: networkx>=2.8 in /Users/matthewho/Photonic_computing/photonics_env/lib/python3.10/site-packages/networkx-3.1-py3.10.egg (from scikit-image->simphox) (3.1)\n",
      "Requirement already satisfied: pillow>=9.0.1 in /Users/matthewho/Photonic_computing/photonics_env/lib/python3.10/site-packages/Pillow-9.5.0-py3.10-macosx-12-arm64.egg (from scikit-image->simphox) (9.5.0)\n",
      "Requirement already satisfied: imageio>=2.27 in /Users/matthewho/Photonic_computing/photonics_env/lib/python3.10/site-packages/imageio-2.31.1-py3.10.egg (from scikit-image->simphox) (2.31.1)\n",
      "Requirement already satisfied: tifffile>=2022.8.12 in /Users/matthewho/Photonic_computing/photonics_env/lib/python3.10/site-packages/tifffile-2023.4.12-py3.10.egg (from scikit-image->simphox) (2023.4.12)\n",
      "Requirement already satisfied: PyWavelets>=1.1.1 in /Users/matthewho/Photonic_computing/photonics_env/lib/python3.10/site-packages/PyWavelets-1.4.1-py3.10-macosx-12-arm64.egg (from scikit-image->simphox) (1.4.1)\n",
      "Requirement already satisfied: packaging>=21 in /Users/matthewho/Photonic_computing/photonics_env/lib/python3.10/site-packages (from scikit-image->simphox) (23.1)\n",
      "Requirement already satisfied: lazy_loader>=0.2 in /Users/matthewho/Photonic_computing/photonics_env/lib/python3.10/site-packages/lazy_loader-0.2-py3.10.egg (from scikit-image->simphox) (0.2)\n",
      "Requirement already satisfied: six>=1.5 in /Users/matthewho/Photonic_computing/photonics_env/lib/python3.10/site-packages (from python-dateutil>=2.8.2->pandas->simphox) (1.16.0)\n",
      "Note: you may need to restart the kernel to use updated packages.\n"
     ]
    }
   ],
   "source": [
    "pip install simphox"
   ]
  },
  {
   "cell_type": "code",
   "execution_count": 4,
   "id": "2fff0480-2edb-44a6-a7a8-6bb3caa169b9",
   "metadata": {},
   "outputs": [
    {
     "data": {
      "application/javascript": [
       "(function(root) {\n",
       "  function now() {\n",
       "    return new Date();\n",
       "  }\n",
       "\n",
       "  var force = true;\n",
       "  var py_version = '3.1.1'.replace('rc', '-rc.').replace('.dev', '-dev.');\n",
       "  var is_dev = py_version.indexOf(\"+\") !== -1 || py_version.indexOf(\"-\") !== -1;\n",
       "  var reloading = false;\n",
       "  var Bokeh = root.Bokeh;\n",
       "  var bokeh_loaded = Bokeh != null && (Bokeh.version === py_version || (Bokeh.versions !== undefined && Bokeh.versions.has(py_version)));\n",
       "\n",
       "  if (typeof (root._bokeh_timeout) === \"undefined\" || force) {\n",
       "    root._bokeh_timeout = Date.now() + 5000;\n",
       "    root._bokeh_failed_load = false;\n",
       "  }\n",
       "\n",
       "  function run_callbacks() {\n",
       "    try {\n",
       "      root._bokeh_onload_callbacks.forEach(function(callback) {\n",
       "        if (callback != null)\n",
       "          callback();\n",
       "      });\n",
       "    } finally {\n",
       "      delete root._bokeh_onload_callbacks;\n",
       "    }\n",
       "    console.debug(\"Bokeh: all callbacks have finished\");\n",
       "  }\n",
       "\n",
       "  function load_libs(css_urls, js_urls, js_modules, js_exports, callback) {\n",
       "    if (css_urls == null) css_urls = [];\n",
       "    if (js_urls == null) js_urls = [];\n",
       "    if (js_modules == null) js_modules = [];\n",
       "    if (js_exports == null) js_exports = {};\n",
       "\n",
       "    root._bokeh_onload_callbacks.push(callback);\n",
       "\n",
       "    if (root._bokeh_is_loading > 0) {\n",
       "      console.debug(\"Bokeh: BokehJS is being loaded, scheduling callback at\", now());\n",
       "      return null;\n",
       "    }\n",
       "    if (js_urls.length === 0 && js_modules.length === 0 && Object.keys(js_exports).length === 0) {\n",
       "      run_callbacks();\n",
       "      return null;\n",
       "    }\n",
       "    if (!reloading) {\n",
       "      console.debug(\"Bokeh: BokehJS not loaded, scheduling load and callback at\", now());\n",
       "    }\n",
       "\n",
       "    function on_load() {\n",
       "      root._bokeh_is_loading--;\n",
       "      if (root._bokeh_is_loading === 0) {\n",
       "        console.debug(\"Bokeh: all BokehJS libraries/stylesheets loaded\");\n",
       "        run_callbacks()\n",
       "      }\n",
       "    }\n",
       "    window._bokeh_on_load = on_load\n",
       "\n",
       "    function on_error() {\n",
       "      console.error(\"failed to load \" + url);\n",
       "    }\n",
       "\n",
       "    var skip = [];\n",
       "    if (window.requirejs) {\n",
       "      window.requirejs.config({'packages': {}, 'paths': {'jspanel': 'https://cdn.jsdelivr.net/npm/jspanel4@4.12.0/dist/jspanel', 'jspanel-modal': 'https://cdn.jsdelivr.net/npm/jspanel4@4.12.0/dist/extensions/modal/jspanel.modal', 'jspanel-tooltip': 'https://cdn.jsdelivr.net/npm/jspanel4@4.12.0/dist/extensions/tooltip/jspanel.tooltip', 'jspanel-hint': 'https://cdn.jsdelivr.net/npm/jspanel4@4.12.0/dist/extensions/hint/jspanel.hint', 'jspanel-layout': 'https://cdn.jsdelivr.net/npm/jspanel4@4.12.0/dist/extensions/layout/jspanel.layout', 'jspanel-contextmenu': 'https://cdn.jsdelivr.net/npm/jspanel4@4.12.0/dist/extensions/contextmenu/jspanel.contextmenu', 'jspanel-dock': 'https://cdn.jsdelivr.net/npm/jspanel4@4.12.0/dist/extensions/dock/jspanel.dock', 'gridstack': 'https://cdn.jsdelivr.net/npm/gridstack@7.2.3/dist/gridstack-all', 'notyf': 'https://cdn.jsdelivr.net/npm/notyf@3/notyf.min'}, 'shim': {'jspanel': {'exports': 'jsPanel'}, 'gridstack': {'exports': 'GridStack'}}});\n",
       "      require([\"jspanel\"], function(jsPanel) {\n",
       "\twindow.jsPanel = jsPanel\n",
       "\ton_load()\n",
       "      })\n",
       "      require([\"jspanel-modal\"], function() {\n",
       "\ton_load()\n",
       "      })\n",
       "      require([\"jspanel-tooltip\"], function() {\n",
       "\ton_load()\n",
       "      })\n",
       "      require([\"jspanel-hint\"], function() {\n",
       "\ton_load()\n",
       "      })\n",
       "      require([\"jspanel-layout\"], function() {\n",
       "\ton_load()\n",
       "      })\n",
       "      require([\"jspanel-contextmenu\"], function() {\n",
       "\ton_load()\n",
       "      })\n",
       "      require([\"jspanel-dock\"], function() {\n",
       "\ton_load()\n",
       "      })\n",
       "      require([\"gridstack\"], function(GridStack) {\n",
       "\twindow.GridStack = GridStack\n",
       "\ton_load()\n",
       "      })\n",
       "      require([\"notyf\"], function() {\n",
       "\ton_load()\n",
       "      })\n",
       "      root._bokeh_is_loading = css_urls.length + 9;\n",
       "    } else {\n",
       "      root._bokeh_is_loading = css_urls.length + js_urls.length + js_modules.length + Object.keys(js_exports).length;\n",
       "    }\n",
       "\n",
       "    var existing_stylesheets = []\n",
       "    var links = document.getElementsByTagName('link')\n",
       "    for (var i = 0; i < links.length; i++) {\n",
       "      var link = links[i]\n",
       "      if (link.href != null) {\n",
       "\texisting_stylesheets.push(link.href)\n",
       "      }\n",
       "    }\n",
       "    for (var i = 0; i < css_urls.length; i++) {\n",
       "      var url = css_urls[i];\n",
       "      if (existing_stylesheets.indexOf(url) !== -1) {\n",
       "\ton_load()\n",
       "\tcontinue;\n",
       "      }\n",
       "      const element = document.createElement(\"link\");\n",
       "      element.onload = on_load;\n",
       "      element.onerror = on_error;\n",
       "      element.rel = \"stylesheet\";\n",
       "      element.type = \"text/css\";\n",
       "      element.href = url;\n",
       "      console.debug(\"Bokeh: injecting link tag for BokehJS stylesheet: \", url);\n",
       "      document.body.appendChild(element);\n",
       "    }    if (((window['jsPanel'] !== undefined) && (!(window['jsPanel'] instanceof HTMLElement))) || window.requirejs) {\n",
       "      var urls = ['https://cdn.holoviz.org/panel/1.1.1/dist/bundled/floatpanel/jspanel4@4.12.0/dist/jspanel.js', 'https://cdn.holoviz.org/panel/1.1.1/dist/bundled/floatpanel/jspanel4@4.12.0/dist/extensions/modal/jspanel.modal.js', 'https://cdn.holoviz.org/panel/1.1.1/dist/bundled/floatpanel/jspanel4@4.12.0/dist/extensions/tooltip/jspanel.tooltip.js', 'https://cdn.holoviz.org/panel/1.1.1/dist/bundled/floatpanel/jspanel4@4.12.0/dist/extensions/hint/jspanel.hint.js', 'https://cdn.holoviz.org/panel/1.1.1/dist/bundled/floatpanel/jspanel4@4.12.0/dist/extensions/layout/jspanel.layout.js', 'https://cdn.holoviz.org/panel/1.1.1/dist/bundled/floatpanel/jspanel4@4.12.0/dist/extensions/contextmenu/jspanel.contextmenu.js', 'https://cdn.holoviz.org/panel/1.1.1/dist/bundled/floatpanel/jspanel4@4.12.0/dist/extensions/dock/jspanel.dock.js'];\n",
       "      for (var i = 0; i < urls.length; i++) {\n",
       "        skip.push(urls[i])\n",
       "      }\n",
       "    }    if (((window['GridStack'] !== undefined) && (!(window['GridStack'] instanceof HTMLElement))) || window.requirejs) {\n",
       "      var urls = ['https://cdn.holoviz.org/panel/1.1.1/dist/bundled/gridstack/gridstack@7.2.3/dist/gridstack-all.js'];\n",
       "      for (var i = 0; i < urls.length; i++) {\n",
       "        skip.push(urls[i])\n",
       "      }\n",
       "    }    if (((window['Notyf'] !== undefined) && (!(window['Notyf'] instanceof HTMLElement))) || window.requirejs) {\n",
       "      var urls = ['https://cdn.holoviz.org/panel/1.1.1/dist/bundled/notificationarea/notyf@3/notyf.min.js'];\n",
       "      for (var i = 0; i < urls.length; i++) {\n",
       "        skip.push(urls[i])\n",
       "      }\n",
       "    }    var existing_scripts = []\n",
       "    var scripts = document.getElementsByTagName('script')\n",
       "    for (var i = 0; i < scripts.length; i++) {\n",
       "      var script = scripts[i]\n",
       "      if (script.src != null) {\n",
       "\texisting_scripts.push(script.src)\n",
       "      }\n",
       "    }\n",
       "    for (var i = 0; i < js_urls.length; i++) {\n",
       "      var url = js_urls[i];\n",
       "      if (skip.indexOf(url) !== -1 || existing_scripts.indexOf(url) !== -1) {\n",
       "\tif (!window.requirejs) {\n",
       "\t  on_load();\n",
       "\t}\n",
       "\tcontinue;\n",
       "      }\n",
       "      var element = document.createElement('script');\n",
       "      element.onload = on_load;\n",
       "      element.onerror = on_error;\n",
       "      element.async = false;\n",
       "      element.src = url;\n",
       "      console.debug(\"Bokeh: injecting script tag for BokehJS library: \", url);\n",
       "      document.head.appendChild(element);\n",
       "    }\n",
       "    for (var i = 0; i < js_modules.length; i++) {\n",
       "      var url = js_modules[i];\n",
       "      if (skip.indexOf(url) !== -1 || existing_scripts.indexOf(url) !== -1) {\n",
       "\tif (!window.requirejs) {\n",
       "\t  on_load();\n",
       "\t}\n",
       "\tcontinue;\n",
       "      }\n",
       "      var element = document.createElement('script');\n",
       "      element.onload = on_load;\n",
       "      element.onerror = on_error;\n",
       "      element.async = false;\n",
       "      element.src = url;\n",
       "      element.type = \"module\";\n",
       "      console.debug(\"Bokeh: injecting script tag for BokehJS library: \", url);\n",
       "      document.head.appendChild(element);\n",
       "    }\n",
       "    for (const name in js_exports) {\n",
       "      var url = js_exports[name];\n",
       "      if (skip.indexOf(url) >= 0 || root[name] != null) {\n",
       "\tif (!window.requirejs) {\n",
       "\t  on_load();\n",
       "\t}\n",
       "\tcontinue;\n",
       "      }\n",
       "      var element = document.createElement('script');\n",
       "      element.onerror = on_error;\n",
       "      element.async = false;\n",
       "      element.type = \"module\";\n",
       "      console.debug(\"Bokeh: injecting script tag for BokehJS library: \", url);\n",
       "      element.textContent = `\n",
       "      import ${name} from \"${url}\"\n",
       "      window.${name} = ${name}\n",
       "      window._bokeh_on_load()\n",
       "      `\n",
       "      document.head.appendChild(element);\n",
       "    }\n",
       "    if (!js_urls.length && !js_modules.length) {\n",
       "      on_load()\n",
       "    }\n",
       "  };\n",
       "\n",
       "  function inject_raw_css(css) {\n",
       "    const element = document.createElement(\"style\");\n",
       "    element.appendChild(document.createTextNode(css));\n",
       "    document.body.appendChild(element);\n",
       "  }\n",
       "\n",
       "  var js_urls = [\"https://cdn.bokeh.org/bokeh/release/bokeh-3.1.1.min.js\", \"https://cdn.bokeh.org/bokeh/release/bokeh-gl-3.1.1.min.js\", \"https://cdn.bokeh.org/bokeh/release/bokeh-widgets-3.1.1.min.js\", \"https://cdn.bokeh.org/bokeh/release/bokeh-tables-3.1.1.min.js\", \"https://cdn.holoviz.org/panel/1.1.1/dist/panel.min.js\"];\n",
       "  var js_modules = [];\n",
       "  var js_exports = {};\n",
       "  var css_urls = [];\n",
       "  var inline_js = [    function(Bokeh) {\n",
       "      Bokeh.set_log_level(\"info\");\n",
       "    },\n",
       "function(Bokeh) {} // ensure no trailing comma for IE\n",
       "  ];\n",
       "\n",
       "  function run_inline_js() {\n",
       "    if ((root.Bokeh !== undefined) || (force === true)) {\n",
       "      for (var i = 0; i < inline_js.length; i++) {\n",
       "        inline_js[i].call(root, root.Bokeh);\n",
       "      }\n",
       "      // Cache old bokeh versions\n",
       "      if (Bokeh != undefined && !reloading) {\n",
       "\tvar NewBokeh = root.Bokeh;\n",
       "\tif (Bokeh.versions === undefined) {\n",
       "\t  Bokeh.versions = new Map();\n",
       "\t}\n",
       "\tif (NewBokeh.version !== Bokeh.version) {\n",
       "\t  Bokeh.versions.set(NewBokeh.version, NewBokeh)\n",
       "\t}\n",
       "\troot.Bokeh = Bokeh;\n",
       "      }} else if (Date.now() < root._bokeh_timeout) {\n",
       "      setTimeout(run_inline_js, 100);\n",
       "    } else if (!root._bokeh_failed_load) {\n",
       "      console.log(\"Bokeh: BokehJS failed to load within specified timeout.\");\n",
       "      root._bokeh_failed_load = true;\n",
       "    }\n",
       "    root._bokeh_is_initializing = false\n",
       "  }\n",
       "\n",
       "  function load_or_wait() {\n",
       "    // Implement a backoff loop that tries to ensure we do not load multiple\n",
       "    // versions of Bokeh and its dependencies at the same time.\n",
       "    // In recent versions we use the root._bokeh_is_initializing flag\n",
       "    // to determine whether there is an ongoing attempt to initialize\n",
       "    // bokeh, however for backward compatibility we also try to ensure\n",
       "    // that we do not start loading a newer (Panel>=1.0 and Bokeh>3) version\n",
       "    // before older versions are fully initialized.\n",
       "    if (root._bokeh_is_initializing && Date.now() > root._bokeh_timeout) {\n",
       "      root._bokeh_is_initializing = false;\n",
       "      root._bokeh_onload_callbacks = undefined;\n",
       "      console.log(\"Bokeh: BokehJS was loaded multiple times but one version failed to initialize.\");\n",
       "      load_or_wait();\n",
       "    } else if (root._bokeh_is_initializing || (typeof root._bokeh_is_initializing === \"undefined\" && root._bokeh_onload_callbacks !== undefined)) {\n",
       "      setTimeout(load_or_wait, 100);\n",
       "    } else {\n",
       "      Bokeh = root.Bokeh;\n",
       "      bokeh_loaded = Bokeh != null && (Bokeh.version === py_version || (Bokeh.versions !== undefined && Bokeh.versions.has(py_version)));\n",
       "      root._bokeh_is_initializing = true\n",
       "      root._bokeh_onload_callbacks = []\n",
       "      if (!reloading && (!bokeh_loaded || is_dev)) {\n",
       "\troot.Bokeh = undefined;\n",
       "      }\n",
       "      load_libs(css_urls, js_urls, js_modules, js_exports, function() {\n",
       "\tconsole.debug(\"Bokeh: BokehJS plotting callback run at\", now());\n",
       "\trun_inline_js();\n",
       "      });\n",
       "    }\n",
       "  }\n",
       "  // Give older versions of the autoload script a head-start to ensure\n",
       "  // they initialize before we start loading newer version.\n",
       "  setTimeout(load_or_wait, 100)\n",
       "}(window));"
      ],
      "application/vnd.holoviews_load.v0+json": "(function(root) {\n  function now() {\n    return new Date();\n  }\n\n  var force = true;\n  var py_version = '3.1.1'.replace('rc', '-rc.').replace('.dev', '-dev.');\n  var is_dev = py_version.indexOf(\"+\") !== -1 || py_version.indexOf(\"-\") !== -1;\n  var reloading = false;\n  var Bokeh = root.Bokeh;\n  var bokeh_loaded = Bokeh != null && (Bokeh.version === py_version || (Bokeh.versions !== undefined && Bokeh.versions.has(py_version)));\n\n  if (typeof (root._bokeh_timeout) === \"undefined\" || force) {\n    root._bokeh_timeout = Date.now() + 5000;\n    root._bokeh_failed_load = false;\n  }\n\n  function run_callbacks() {\n    try {\n      root._bokeh_onload_callbacks.forEach(function(callback) {\n        if (callback != null)\n          callback();\n      });\n    } finally {\n      delete root._bokeh_onload_callbacks;\n    }\n    console.debug(\"Bokeh: all callbacks have finished\");\n  }\n\n  function load_libs(css_urls, js_urls, js_modules, js_exports, callback) {\n    if (css_urls == null) css_urls = [];\n    if (js_urls == null) js_urls = [];\n    if (js_modules == null) js_modules = [];\n    if (js_exports == null) js_exports = {};\n\n    root._bokeh_onload_callbacks.push(callback);\n\n    if (root._bokeh_is_loading > 0) {\n      console.debug(\"Bokeh: BokehJS is being loaded, scheduling callback at\", now());\n      return null;\n    }\n    if (js_urls.length === 0 && js_modules.length === 0 && Object.keys(js_exports).length === 0) {\n      run_callbacks();\n      return null;\n    }\n    if (!reloading) {\n      console.debug(\"Bokeh: BokehJS not loaded, scheduling load and callback at\", now());\n    }\n\n    function on_load() {\n      root._bokeh_is_loading--;\n      if (root._bokeh_is_loading === 0) {\n        console.debug(\"Bokeh: all BokehJS libraries/stylesheets loaded\");\n        run_callbacks()\n      }\n    }\n    window._bokeh_on_load = on_load\n\n    function on_error() {\n      console.error(\"failed to load \" + url);\n    }\n\n    var skip = [];\n    if (window.requirejs) {\n      window.requirejs.config({'packages': {}, 'paths': {'jspanel': 'https://cdn.jsdelivr.net/npm/jspanel4@4.12.0/dist/jspanel', 'jspanel-modal': 'https://cdn.jsdelivr.net/npm/jspanel4@4.12.0/dist/extensions/modal/jspanel.modal', 'jspanel-tooltip': 'https://cdn.jsdelivr.net/npm/jspanel4@4.12.0/dist/extensions/tooltip/jspanel.tooltip', 'jspanel-hint': 'https://cdn.jsdelivr.net/npm/jspanel4@4.12.0/dist/extensions/hint/jspanel.hint', 'jspanel-layout': 'https://cdn.jsdelivr.net/npm/jspanel4@4.12.0/dist/extensions/layout/jspanel.layout', 'jspanel-contextmenu': 'https://cdn.jsdelivr.net/npm/jspanel4@4.12.0/dist/extensions/contextmenu/jspanel.contextmenu', 'jspanel-dock': 'https://cdn.jsdelivr.net/npm/jspanel4@4.12.0/dist/extensions/dock/jspanel.dock', 'gridstack': 'https://cdn.jsdelivr.net/npm/gridstack@7.2.3/dist/gridstack-all', 'notyf': 'https://cdn.jsdelivr.net/npm/notyf@3/notyf.min'}, 'shim': {'jspanel': {'exports': 'jsPanel'}, 'gridstack': {'exports': 'GridStack'}}});\n      require([\"jspanel\"], function(jsPanel) {\n\twindow.jsPanel = jsPanel\n\ton_load()\n      })\n      require([\"jspanel-modal\"], function() {\n\ton_load()\n      })\n      require([\"jspanel-tooltip\"], function() {\n\ton_load()\n      })\n      require([\"jspanel-hint\"], function() {\n\ton_load()\n      })\n      require([\"jspanel-layout\"], function() {\n\ton_load()\n      })\n      require([\"jspanel-contextmenu\"], function() {\n\ton_load()\n      })\n      require([\"jspanel-dock\"], function() {\n\ton_load()\n      })\n      require([\"gridstack\"], function(GridStack) {\n\twindow.GridStack = GridStack\n\ton_load()\n      })\n      require([\"notyf\"], function() {\n\ton_load()\n      })\n      root._bokeh_is_loading = css_urls.length + 9;\n    } else {\n      root._bokeh_is_loading = css_urls.length + js_urls.length + js_modules.length + Object.keys(js_exports).length;\n    }\n\n    var existing_stylesheets = []\n    var links = document.getElementsByTagName('link')\n    for (var i = 0; i < links.length; i++) {\n      var link = links[i]\n      if (link.href != null) {\n\texisting_stylesheets.push(link.href)\n      }\n    }\n    for (var i = 0; i < css_urls.length; i++) {\n      var url = css_urls[i];\n      if (existing_stylesheets.indexOf(url) !== -1) {\n\ton_load()\n\tcontinue;\n      }\n      const element = document.createElement(\"link\");\n      element.onload = on_load;\n      element.onerror = on_error;\n      element.rel = \"stylesheet\";\n      element.type = \"text/css\";\n      element.href = url;\n      console.debug(\"Bokeh: injecting link tag for BokehJS stylesheet: \", url);\n      document.body.appendChild(element);\n    }    if (((window['jsPanel'] !== undefined) && (!(window['jsPanel'] instanceof HTMLElement))) || window.requirejs) {\n      var urls = ['https://cdn.holoviz.org/panel/1.1.1/dist/bundled/floatpanel/jspanel4@4.12.0/dist/jspanel.js', 'https://cdn.holoviz.org/panel/1.1.1/dist/bundled/floatpanel/jspanel4@4.12.0/dist/extensions/modal/jspanel.modal.js', 'https://cdn.holoviz.org/panel/1.1.1/dist/bundled/floatpanel/jspanel4@4.12.0/dist/extensions/tooltip/jspanel.tooltip.js', 'https://cdn.holoviz.org/panel/1.1.1/dist/bundled/floatpanel/jspanel4@4.12.0/dist/extensions/hint/jspanel.hint.js', 'https://cdn.holoviz.org/panel/1.1.1/dist/bundled/floatpanel/jspanel4@4.12.0/dist/extensions/layout/jspanel.layout.js', 'https://cdn.holoviz.org/panel/1.1.1/dist/bundled/floatpanel/jspanel4@4.12.0/dist/extensions/contextmenu/jspanel.contextmenu.js', 'https://cdn.holoviz.org/panel/1.1.1/dist/bundled/floatpanel/jspanel4@4.12.0/dist/extensions/dock/jspanel.dock.js'];\n      for (var i = 0; i < urls.length; i++) {\n        skip.push(urls[i])\n      }\n    }    if (((window['GridStack'] !== undefined) && (!(window['GridStack'] instanceof HTMLElement))) || window.requirejs) {\n      var urls = ['https://cdn.holoviz.org/panel/1.1.1/dist/bundled/gridstack/gridstack@7.2.3/dist/gridstack-all.js'];\n      for (var i = 0; i < urls.length; i++) {\n        skip.push(urls[i])\n      }\n    }    if (((window['Notyf'] !== undefined) && (!(window['Notyf'] instanceof HTMLElement))) || window.requirejs) {\n      var urls = ['https://cdn.holoviz.org/panel/1.1.1/dist/bundled/notificationarea/notyf@3/notyf.min.js'];\n      for (var i = 0; i < urls.length; i++) {\n        skip.push(urls[i])\n      }\n    }    var existing_scripts = []\n    var scripts = document.getElementsByTagName('script')\n    for (var i = 0; i < scripts.length; i++) {\n      var script = scripts[i]\n      if (script.src != null) {\n\texisting_scripts.push(script.src)\n      }\n    }\n    for (var i = 0; i < js_urls.length; i++) {\n      var url = js_urls[i];\n      if (skip.indexOf(url) !== -1 || existing_scripts.indexOf(url) !== -1) {\n\tif (!window.requirejs) {\n\t  on_load();\n\t}\n\tcontinue;\n      }\n      var element = document.createElement('script');\n      element.onload = on_load;\n      element.onerror = on_error;\n      element.async = false;\n      element.src = url;\n      console.debug(\"Bokeh: injecting script tag for BokehJS library: \", url);\n      document.head.appendChild(element);\n    }\n    for (var i = 0; i < js_modules.length; i++) {\n      var url = js_modules[i];\n      if (skip.indexOf(url) !== -1 || existing_scripts.indexOf(url) !== -1) {\n\tif (!window.requirejs) {\n\t  on_load();\n\t}\n\tcontinue;\n      }\n      var element = document.createElement('script');\n      element.onload = on_load;\n      element.onerror = on_error;\n      element.async = false;\n      element.src = url;\n      element.type = \"module\";\n      console.debug(\"Bokeh: injecting script tag for BokehJS library: \", url);\n      document.head.appendChild(element);\n    }\n    for (const name in js_exports) {\n      var url = js_exports[name];\n      if (skip.indexOf(url) >= 0 || root[name] != null) {\n\tif (!window.requirejs) {\n\t  on_load();\n\t}\n\tcontinue;\n      }\n      var element = document.createElement('script');\n      element.onerror = on_error;\n      element.async = false;\n      element.type = \"module\";\n      console.debug(\"Bokeh: injecting script tag for BokehJS library: \", url);\n      element.textContent = `\n      import ${name} from \"${url}\"\n      window.${name} = ${name}\n      window._bokeh_on_load()\n      `\n      document.head.appendChild(element);\n    }\n    if (!js_urls.length && !js_modules.length) {\n      on_load()\n    }\n  };\n\n  function inject_raw_css(css) {\n    const element = document.createElement(\"style\");\n    element.appendChild(document.createTextNode(css));\n    document.body.appendChild(element);\n  }\n\n  var js_urls = [\"https://cdn.bokeh.org/bokeh/release/bokeh-3.1.1.min.js\", \"https://cdn.bokeh.org/bokeh/release/bokeh-gl-3.1.1.min.js\", \"https://cdn.bokeh.org/bokeh/release/bokeh-widgets-3.1.1.min.js\", \"https://cdn.bokeh.org/bokeh/release/bokeh-tables-3.1.1.min.js\", \"https://cdn.holoviz.org/panel/1.1.1/dist/panel.min.js\"];\n  var js_modules = [];\n  var js_exports = {};\n  var css_urls = [];\n  var inline_js = [    function(Bokeh) {\n      Bokeh.set_log_level(\"info\");\n    },\nfunction(Bokeh) {} // ensure no trailing comma for IE\n  ];\n\n  function run_inline_js() {\n    if ((root.Bokeh !== undefined) || (force === true)) {\n      for (var i = 0; i < inline_js.length; i++) {\n        inline_js[i].call(root, root.Bokeh);\n      }\n      // Cache old bokeh versions\n      if (Bokeh != undefined && !reloading) {\n\tvar NewBokeh = root.Bokeh;\n\tif (Bokeh.versions === undefined) {\n\t  Bokeh.versions = new Map();\n\t}\n\tif (NewBokeh.version !== Bokeh.version) {\n\t  Bokeh.versions.set(NewBokeh.version, NewBokeh)\n\t}\n\troot.Bokeh = Bokeh;\n      }} else if (Date.now() < root._bokeh_timeout) {\n      setTimeout(run_inline_js, 100);\n    } else if (!root._bokeh_failed_load) {\n      console.log(\"Bokeh: BokehJS failed to load within specified timeout.\");\n      root._bokeh_failed_load = true;\n    }\n    root._bokeh_is_initializing = false\n  }\n\n  function load_or_wait() {\n    // Implement a backoff loop that tries to ensure we do not load multiple\n    // versions of Bokeh and its dependencies at the same time.\n    // In recent versions we use the root._bokeh_is_initializing flag\n    // to determine whether there is an ongoing attempt to initialize\n    // bokeh, however for backward compatibility we also try to ensure\n    // that we do not start loading a newer (Panel>=1.0 and Bokeh>3) version\n    // before older versions are fully initialized.\n    if (root._bokeh_is_initializing && Date.now() > root._bokeh_timeout) {\n      root._bokeh_is_initializing = false;\n      root._bokeh_onload_callbacks = undefined;\n      console.log(\"Bokeh: BokehJS was loaded multiple times but one version failed to initialize.\");\n      load_or_wait();\n    } else if (root._bokeh_is_initializing || (typeof root._bokeh_is_initializing === \"undefined\" && root._bokeh_onload_callbacks !== undefined)) {\n      setTimeout(load_or_wait, 100);\n    } else {\n      Bokeh = root.Bokeh;\n      bokeh_loaded = Bokeh != null && (Bokeh.version === py_version || (Bokeh.versions !== undefined && Bokeh.versions.has(py_version)));\n      root._bokeh_is_initializing = true\n      root._bokeh_onload_callbacks = []\n      if (!reloading && (!bokeh_loaded || is_dev)) {\n\troot.Bokeh = undefined;\n      }\n      load_libs(css_urls, js_urls, js_modules, js_exports, function() {\n\tconsole.debug(\"Bokeh: BokehJS plotting callback run at\", now());\n\trun_inline_js();\n      });\n    }\n  }\n  // Give older versions of the autoload script a head-start to ensure\n  // they initialize before we start loading newer version.\n  setTimeout(load_or_wait, 100)\n}(window));"
     },
     "metadata": {},
     "output_type": "display_data"
    },
    {
     "data": {
      "application/javascript": [
       "\n",
       "if ((window.PyViz === undefined) || (window.PyViz instanceof HTMLElement)) {\n",
       "  window.PyViz = {comms: {}, comm_status:{}, kernels:{}, receivers: {}, plot_index: []}\n",
       "}\n",
       "\n",
       "\n",
       "    function JupyterCommManager() {\n",
       "    }\n",
       "\n",
       "    JupyterCommManager.prototype.register_target = function(plot_id, comm_id, msg_handler) {\n",
       "      if (window.comm_manager || ((window.Jupyter !== undefined) && (Jupyter.notebook.kernel != null))) {\n",
       "        var comm_manager = window.comm_manager || Jupyter.notebook.kernel.comm_manager;\n",
       "        comm_manager.register_target(comm_id, function(comm) {\n",
       "          comm.on_msg(msg_handler);\n",
       "        });\n",
       "      } else if ((plot_id in window.PyViz.kernels) && (window.PyViz.kernels[plot_id])) {\n",
       "        window.PyViz.kernels[plot_id].registerCommTarget(comm_id, function(comm) {\n",
       "          comm.onMsg = msg_handler;\n",
       "        });\n",
       "      } else if (typeof google != 'undefined' && google.colab.kernel != null) {\n",
       "        google.colab.kernel.comms.registerTarget(comm_id, (comm) => {\n",
       "          var messages = comm.messages[Symbol.asyncIterator]();\n",
       "          function processIteratorResult(result) {\n",
       "            var message = result.value;\n",
       "            console.log(message)\n",
       "            var content = {data: message.data, comm_id};\n",
       "            var buffers = []\n",
       "            for (var buffer of message.buffers || []) {\n",
       "              buffers.push(new DataView(buffer))\n",
       "            }\n",
       "            var metadata = message.metadata || {};\n",
       "            var msg = {content, buffers, metadata}\n",
       "            msg_handler(msg);\n",
       "            return messages.next().then(processIteratorResult);\n",
       "          }\n",
       "          return messages.next().then(processIteratorResult);\n",
       "        })\n",
       "      }\n",
       "    }\n",
       "\n",
       "    JupyterCommManager.prototype.get_client_comm = function(plot_id, comm_id, msg_handler) {\n",
       "      if (comm_id in window.PyViz.comms) {\n",
       "        return window.PyViz.comms[comm_id];\n",
       "      } else if (window.comm_manager || ((window.Jupyter !== undefined) && (Jupyter.notebook.kernel != null))) {\n",
       "        var comm_manager = window.comm_manager || Jupyter.notebook.kernel.comm_manager;\n",
       "        var comm = comm_manager.new_comm(comm_id, {}, {}, {}, comm_id);\n",
       "        if (msg_handler) {\n",
       "          comm.on_msg(msg_handler);\n",
       "        }\n",
       "      } else if ((plot_id in window.PyViz.kernels) && (window.PyViz.kernels[plot_id])) {\n",
       "        var comm = window.PyViz.kernels[plot_id].connectToComm(comm_id);\n",
       "        comm.open();\n",
       "        if (msg_handler) {\n",
       "          comm.onMsg = msg_handler;\n",
       "        }\n",
       "      } else if (typeof google != 'undefined' && google.colab.kernel != null) {\n",
       "        var comm_promise = google.colab.kernel.comms.open(comm_id)\n",
       "        comm_promise.then((comm) => {\n",
       "          window.PyViz.comms[comm_id] = comm;\n",
       "          if (msg_handler) {\n",
       "            var messages = comm.messages[Symbol.asyncIterator]();\n",
       "            function processIteratorResult(result) {\n",
       "              var message = result.value;\n",
       "              var content = {data: message.data};\n",
       "              var metadata = message.metadata || {comm_id};\n",
       "              var msg = {content, metadata}\n",
       "              msg_handler(msg);\n",
       "              return messages.next().then(processIteratorResult);\n",
       "            }\n",
       "            return messages.next().then(processIteratorResult);\n",
       "          }\n",
       "        }) \n",
       "        var sendClosure = (data, metadata, buffers, disposeOnDone) => {\n",
       "          return comm_promise.then((comm) => {\n",
       "            comm.send(data, metadata, buffers, disposeOnDone);\n",
       "          });\n",
       "        };\n",
       "        var comm = {\n",
       "          send: sendClosure\n",
       "        };\n",
       "      }\n",
       "      window.PyViz.comms[comm_id] = comm;\n",
       "      return comm;\n",
       "    }\n",
       "    window.PyViz.comm_manager = new JupyterCommManager();\n",
       "    \n",
       "\n",
       "\n",
       "var JS_MIME_TYPE = 'application/javascript';\n",
       "var HTML_MIME_TYPE = 'text/html';\n",
       "var EXEC_MIME_TYPE = 'application/vnd.holoviews_exec.v0+json';\n",
       "var CLASS_NAME = 'output';\n",
       "\n",
       "/**\n",
       " * Render data to the DOM node\n",
       " */\n",
       "function render(props, node) {\n",
       "  var div = document.createElement(\"div\");\n",
       "  var script = document.createElement(\"script\");\n",
       "  node.appendChild(div);\n",
       "  node.appendChild(script);\n",
       "}\n",
       "\n",
       "/**\n",
       " * Handle when a new output is added\n",
       " */\n",
       "function handle_add_output(event, handle) {\n",
       "  var output_area = handle.output_area;\n",
       "  var output = handle.output;\n",
       "  if ((output.data == undefined) || (!output.data.hasOwnProperty(EXEC_MIME_TYPE))) {\n",
       "    return\n",
       "  }\n",
       "  var id = output.metadata[EXEC_MIME_TYPE][\"id\"];\n",
       "  var toinsert = output_area.element.find(\".\" + CLASS_NAME.split(' ')[0]);\n",
       "  if (id !== undefined) {\n",
       "    var nchildren = toinsert.length;\n",
       "    var html_node = toinsert[nchildren-1].children[0];\n",
       "    html_node.innerHTML = output.data[HTML_MIME_TYPE];\n",
       "    var scripts = [];\n",
       "    var nodelist = html_node.querySelectorAll(\"script\");\n",
       "    for (var i in nodelist) {\n",
       "      if (nodelist.hasOwnProperty(i)) {\n",
       "        scripts.push(nodelist[i])\n",
       "      }\n",
       "    }\n",
       "\n",
       "    scripts.forEach( function (oldScript) {\n",
       "      var newScript = document.createElement(\"script\");\n",
       "      var attrs = [];\n",
       "      var nodemap = oldScript.attributes;\n",
       "      for (var j in nodemap) {\n",
       "        if (nodemap.hasOwnProperty(j)) {\n",
       "          attrs.push(nodemap[j])\n",
       "        }\n",
       "      }\n",
       "      attrs.forEach(function(attr) { newScript.setAttribute(attr.name, attr.value) });\n",
       "      newScript.appendChild(document.createTextNode(oldScript.innerHTML));\n",
       "      oldScript.parentNode.replaceChild(newScript, oldScript);\n",
       "    });\n",
       "    if (JS_MIME_TYPE in output.data) {\n",
       "      toinsert[nchildren-1].children[1].textContent = output.data[JS_MIME_TYPE];\n",
       "    }\n",
       "    output_area._hv_plot_id = id;\n",
       "    if ((window.Bokeh !== undefined) && (id in Bokeh.index)) {\n",
       "      window.PyViz.plot_index[id] = Bokeh.index[id];\n",
       "    } else {\n",
       "      window.PyViz.plot_index[id] = null;\n",
       "    }\n",
       "  } else if (output.metadata[EXEC_MIME_TYPE][\"server_id\"] !== undefined) {\n",
       "    var bk_div = document.createElement(\"div\");\n",
       "    bk_div.innerHTML = output.data[HTML_MIME_TYPE];\n",
       "    var script_attrs = bk_div.children[0].attributes;\n",
       "    for (var i = 0; i < script_attrs.length; i++) {\n",
       "      toinsert[toinsert.length - 1].childNodes[1].setAttribute(script_attrs[i].name, script_attrs[i].value);\n",
       "    }\n",
       "    // store reference to server id on output_area\n",
       "    output_area._bokeh_server_id = output.metadata[EXEC_MIME_TYPE][\"server_id\"];\n",
       "  }\n",
       "}\n",
       "\n",
       "/**\n",
       " * Handle when an output is cleared or removed\n",
       " */\n",
       "function handle_clear_output(event, handle) {\n",
       "  var id = handle.cell.output_area._hv_plot_id;\n",
       "  var server_id = handle.cell.output_area._bokeh_server_id;\n",
       "  if (((id === undefined) || !(id in PyViz.plot_index)) && (server_id !== undefined)) { return; }\n",
       "  var comm = window.PyViz.comm_manager.get_client_comm(\"hv-extension-comm\", \"hv-extension-comm\", function () {});\n",
       "  if (server_id !== null) {\n",
       "    comm.send({event_type: 'server_delete', 'id': server_id});\n",
       "    return;\n",
       "  } else if (comm !== null) {\n",
       "    comm.send({event_type: 'delete', 'id': id});\n",
       "  }\n",
       "  delete PyViz.plot_index[id];\n",
       "  if ((window.Bokeh !== undefined) & (id in window.Bokeh.index)) {\n",
       "    var doc = window.Bokeh.index[id].model.document\n",
       "    doc.clear();\n",
       "    const i = window.Bokeh.documents.indexOf(doc);\n",
       "    if (i > -1) {\n",
       "      window.Bokeh.documents.splice(i, 1);\n",
       "    }\n",
       "  }\n",
       "}\n",
       "\n",
       "/**\n",
       " * Handle kernel restart event\n",
       " */\n",
       "function handle_kernel_cleanup(event, handle) {\n",
       "  delete PyViz.comms[\"hv-extension-comm\"];\n",
       "  window.PyViz.plot_index = {}\n",
       "}\n",
       "\n",
       "/**\n",
       " * Handle update_display_data messages\n",
       " */\n",
       "function handle_update_output(event, handle) {\n",
       "  handle_clear_output(event, {cell: {output_area: handle.output_area}})\n",
       "  handle_add_output(event, handle)\n",
       "}\n",
       "\n",
       "function register_renderer(events, OutputArea) {\n",
       "  function append_mime(data, metadata, element) {\n",
       "    // create a DOM node to render to\n",
       "    var toinsert = this.create_output_subarea(\n",
       "    metadata,\n",
       "    CLASS_NAME,\n",
       "    EXEC_MIME_TYPE\n",
       "    );\n",
       "    this.keyboard_manager.register_events(toinsert);\n",
       "    // Render to node\n",
       "    var props = {data: data, metadata: metadata[EXEC_MIME_TYPE]};\n",
       "    render(props, toinsert[0]);\n",
       "    element.append(toinsert);\n",
       "    return toinsert\n",
       "  }\n",
       "\n",
       "  events.on('output_added.OutputArea', handle_add_output);\n",
       "  events.on('output_updated.OutputArea', handle_update_output);\n",
       "  events.on('clear_output.CodeCell', handle_clear_output);\n",
       "  events.on('delete.Cell', handle_clear_output);\n",
       "  events.on('kernel_ready.Kernel', handle_kernel_cleanup);\n",
       "\n",
       "  OutputArea.prototype.register_mime_type(EXEC_MIME_TYPE, append_mime, {\n",
       "    safe: true,\n",
       "    index: 0\n",
       "  });\n",
       "}\n",
       "\n",
       "if (window.Jupyter !== undefined) {\n",
       "  try {\n",
       "    var events = require('base/js/events');\n",
       "    var OutputArea = require('notebook/js/outputarea').OutputArea;\n",
       "    if (OutputArea.prototype.mime_types().indexOf(EXEC_MIME_TYPE) == -1) {\n",
       "      register_renderer(events, OutputArea);\n",
       "    }\n",
       "  } catch(err) {\n",
       "  }\n",
       "}\n"
      ],
      "application/vnd.holoviews_load.v0+json": "\nif ((window.PyViz === undefined) || (window.PyViz instanceof HTMLElement)) {\n  window.PyViz = {comms: {}, comm_status:{}, kernels:{}, receivers: {}, plot_index: []}\n}\n\n\n    function JupyterCommManager() {\n    }\n\n    JupyterCommManager.prototype.register_target = function(plot_id, comm_id, msg_handler) {\n      if (window.comm_manager || ((window.Jupyter !== undefined) && (Jupyter.notebook.kernel != null))) {\n        var comm_manager = window.comm_manager || Jupyter.notebook.kernel.comm_manager;\n        comm_manager.register_target(comm_id, function(comm) {\n          comm.on_msg(msg_handler);\n        });\n      } else if ((plot_id in window.PyViz.kernels) && (window.PyViz.kernels[plot_id])) {\n        window.PyViz.kernels[plot_id].registerCommTarget(comm_id, function(comm) {\n          comm.onMsg = msg_handler;\n        });\n      } else if (typeof google != 'undefined' && google.colab.kernel != null) {\n        google.colab.kernel.comms.registerTarget(comm_id, (comm) => {\n          var messages = comm.messages[Symbol.asyncIterator]();\n          function processIteratorResult(result) {\n            var message = result.value;\n            console.log(message)\n            var content = {data: message.data, comm_id};\n            var buffers = []\n            for (var buffer of message.buffers || []) {\n              buffers.push(new DataView(buffer))\n            }\n            var metadata = message.metadata || {};\n            var msg = {content, buffers, metadata}\n            msg_handler(msg);\n            return messages.next().then(processIteratorResult);\n          }\n          return messages.next().then(processIteratorResult);\n        })\n      }\n    }\n\n    JupyterCommManager.prototype.get_client_comm = function(plot_id, comm_id, msg_handler) {\n      if (comm_id in window.PyViz.comms) {\n        return window.PyViz.comms[comm_id];\n      } else if (window.comm_manager || ((window.Jupyter !== undefined) && (Jupyter.notebook.kernel != null))) {\n        var comm_manager = window.comm_manager || Jupyter.notebook.kernel.comm_manager;\n        var comm = comm_manager.new_comm(comm_id, {}, {}, {}, comm_id);\n        if (msg_handler) {\n          comm.on_msg(msg_handler);\n        }\n      } else if ((plot_id in window.PyViz.kernels) && (window.PyViz.kernels[plot_id])) {\n        var comm = window.PyViz.kernels[plot_id].connectToComm(comm_id);\n        comm.open();\n        if (msg_handler) {\n          comm.onMsg = msg_handler;\n        }\n      } else if (typeof google != 'undefined' && google.colab.kernel != null) {\n        var comm_promise = google.colab.kernel.comms.open(comm_id)\n        comm_promise.then((comm) => {\n          window.PyViz.comms[comm_id] = comm;\n          if (msg_handler) {\n            var messages = comm.messages[Symbol.asyncIterator]();\n            function processIteratorResult(result) {\n              var message = result.value;\n              var content = {data: message.data};\n              var metadata = message.metadata || {comm_id};\n              var msg = {content, metadata}\n              msg_handler(msg);\n              return messages.next().then(processIteratorResult);\n            }\n            return messages.next().then(processIteratorResult);\n          }\n        }) \n        var sendClosure = (data, metadata, buffers, disposeOnDone) => {\n          return comm_promise.then((comm) => {\n            comm.send(data, metadata, buffers, disposeOnDone);\n          });\n        };\n        var comm = {\n          send: sendClosure\n        };\n      }\n      window.PyViz.comms[comm_id] = comm;\n      return comm;\n    }\n    window.PyViz.comm_manager = new JupyterCommManager();\n    \n\n\nvar JS_MIME_TYPE = 'application/javascript';\nvar HTML_MIME_TYPE = 'text/html';\nvar EXEC_MIME_TYPE = 'application/vnd.holoviews_exec.v0+json';\nvar CLASS_NAME = 'output';\n\n/**\n * Render data to the DOM node\n */\nfunction render(props, node) {\n  var div = document.createElement(\"div\");\n  var script = document.createElement(\"script\");\n  node.appendChild(div);\n  node.appendChild(script);\n}\n\n/**\n * Handle when a new output is added\n */\nfunction handle_add_output(event, handle) {\n  var output_area = handle.output_area;\n  var output = handle.output;\n  if ((output.data == undefined) || (!output.data.hasOwnProperty(EXEC_MIME_TYPE))) {\n    return\n  }\n  var id = output.metadata[EXEC_MIME_TYPE][\"id\"];\n  var toinsert = output_area.element.find(\".\" + CLASS_NAME.split(' ')[0]);\n  if (id !== undefined) {\n    var nchildren = toinsert.length;\n    var html_node = toinsert[nchildren-1].children[0];\n    html_node.innerHTML = output.data[HTML_MIME_TYPE];\n    var scripts = [];\n    var nodelist = html_node.querySelectorAll(\"script\");\n    for (var i in nodelist) {\n      if (nodelist.hasOwnProperty(i)) {\n        scripts.push(nodelist[i])\n      }\n    }\n\n    scripts.forEach( function (oldScript) {\n      var newScript = document.createElement(\"script\");\n      var attrs = [];\n      var nodemap = oldScript.attributes;\n      for (var j in nodemap) {\n        if (nodemap.hasOwnProperty(j)) {\n          attrs.push(nodemap[j])\n        }\n      }\n      attrs.forEach(function(attr) { newScript.setAttribute(attr.name, attr.value) });\n      newScript.appendChild(document.createTextNode(oldScript.innerHTML));\n      oldScript.parentNode.replaceChild(newScript, oldScript);\n    });\n    if (JS_MIME_TYPE in output.data) {\n      toinsert[nchildren-1].children[1].textContent = output.data[JS_MIME_TYPE];\n    }\n    output_area._hv_plot_id = id;\n    if ((window.Bokeh !== undefined) && (id in Bokeh.index)) {\n      window.PyViz.plot_index[id] = Bokeh.index[id];\n    } else {\n      window.PyViz.plot_index[id] = null;\n    }\n  } else if (output.metadata[EXEC_MIME_TYPE][\"server_id\"] !== undefined) {\n    var bk_div = document.createElement(\"div\");\n    bk_div.innerHTML = output.data[HTML_MIME_TYPE];\n    var script_attrs = bk_div.children[0].attributes;\n    for (var i = 0; i < script_attrs.length; i++) {\n      toinsert[toinsert.length - 1].childNodes[1].setAttribute(script_attrs[i].name, script_attrs[i].value);\n    }\n    // store reference to server id on output_area\n    output_area._bokeh_server_id = output.metadata[EXEC_MIME_TYPE][\"server_id\"];\n  }\n}\n\n/**\n * Handle when an output is cleared or removed\n */\nfunction handle_clear_output(event, handle) {\n  var id = handle.cell.output_area._hv_plot_id;\n  var server_id = handle.cell.output_area._bokeh_server_id;\n  if (((id === undefined) || !(id in PyViz.plot_index)) && (server_id !== undefined)) { return; }\n  var comm = window.PyViz.comm_manager.get_client_comm(\"hv-extension-comm\", \"hv-extension-comm\", function () {});\n  if (server_id !== null) {\n    comm.send({event_type: 'server_delete', 'id': server_id});\n    return;\n  } else if (comm !== null) {\n    comm.send({event_type: 'delete', 'id': id});\n  }\n  delete PyViz.plot_index[id];\n  if ((window.Bokeh !== undefined) & (id in window.Bokeh.index)) {\n    var doc = window.Bokeh.index[id].model.document\n    doc.clear();\n    const i = window.Bokeh.documents.indexOf(doc);\n    if (i > -1) {\n      window.Bokeh.documents.splice(i, 1);\n    }\n  }\n}\n\n/**\n * Handle kernel restart event\n */\nfunction handle_kernel_cleanup(event, handle) {\n  delete PyViz.comms[\"hv-extension-comm\"];\n  window.PyViz.plot_index = {}\n}\n\n/**\n * Handle update_display_data messages\n */\nfunction handle_update_output(event, handle) {\n  handle_clear_output(event, {cell: {output_area: handle.output_area}})\n  handle_add_output(event, handle)\n}\n\nfunction register_renderer(events, OutputArea) {\n  function append_mime(data, metadata, element) {\n    // create a DOM node to render to\n    var toinsert = this.create_output_subarea(\n    metadata,\n    CLASS_NAME,\n    EXEC_MIME_TYPE\n    );\n    this.keyboard_manager.register_events(toinsert);\n    // Render to node\n    var props = {data: data, metadata: metadata[EXEC_MIME_TYPE]};\n    render(props, toinsert[0]);\n    element.append(toinsert);\n    return toinsert\n  }\n\n  events.on('output_added.OutputArea', handle_add_output);\n  events.on('output_updated.OutputArea', handle_update_output);\n  events.on('clear_output.CodeCell', handle_clear_output);\n  events.on('delete.Cell', handle_clear_output);\n  events.on('kernel_ready.Kernel', handle_kernel_cleanup);\n\n  OutputArea.prototype.register_mime_type(EXEC_MIME_TYPE, append_mime, {\n    safe: true,\n    index: 0\n  });\n}\n\nif (window.Jupyter !== undefined) {\n  try {\n    var events = require('base/js/events');\n    var OutputArea = require('notebook/js/outputarea').OutputArea;\n    if (OutputArea.prototype.mime_types().indexOf(EXEC_MIME_TYPE) == -1) {\n      register_renderer(events, OutputArea);\n    }\n  } catch(err) {\n  }\n}\n"
     },
     "metadata": {},
     "output_type": "display_data"
    },
    {
     "data": {
      "text/html": [
       "<style>*[data-root-id],\n",
       "*[data-root-id] > * {\n",
       "  box-sizing: border-box;\n",
       "  font-family: var(--jp-ui-font-family);\n",
       "  font-size: var(--jp-ui-font-size1);\n",
       "  color: var(--vscode-editor-foreground, var(--jp-ui-font-color1));\n",
       "}\n",
       "\n",
       "/* Override VSCode background color */\n",
       ".cell-output-ipywidget-background:has(> .cell-output-ipywidget-background\n",
       "    > .lm-Widget\n",
       "    > *[data-root-id]),\n",
       ".cell-output-ipywidget-background:has(> .lm-Widget > *[data-root-id]) {\n",
       "  background-color: transparent !important;\n",
       "}\n",
       "</style>"
      ]
     },
     "metadata": {},
     "output_type": "display_data"
    },
    {
     "data": {
      "text/html": [
       "\n",
       "<div class=\"logo-block\">\n",
       "<img src='data:image/png;base64,iVBORw0KGgoAAAANSUhEUgAAAEAAAABACAYAAACqaXHeAAAABHNCSVQICAgIfAhkiAAAAAlwSFlz\n",
       "AAAB+wAAAfsBxc2miwAAABl0RVh0U29mdHdhcmUAd3d3Lmlua3NjYXBlLm9yZ5vuPBoAAA6zSURB\n",
       "VHic7ZtpeFRVmsf/5966taWqUlUJ2UioBBJiIBAwCZtog9IOgjqACsogKtqirT2ttt069nQ/zDzt\n",
       "tI4+CrJIREFaFgWhBXpUNhHZQoKBkIUASchWla1S+3ar7r1nPkDaCAnZKoQP/D7mnPOe9/xy76n3\n",
       "nFSAW9ziFoPFNED2LLK5wcyBDObkb8ZkxuaoSYlI6ZcOKq1eWFdedqNzGHQBk9RMEwFAASkk0Xw3\n",
       "ETacDNi2vtvc7L0ROdw0AjoSotQVkKSvHQz/wRO1lScGModBFbDMaNRN1A4tUBCS3lk7BWhQkgpD\n",
       "lG4852/+7DWr1R3uHAZVQDsbh6ZPN7CyxUrCzJMRouusj0ipRwD2uKm0Zn5d2dFwzX1TCGhnmdGo\n",
       "G62Nna+isiUqhkzuKrkQaJlPEv5mFl2fvGg2t/VnzkEV8F5ioioOEWkLG86fvbpthynjdhXYZziQ\n",
       "x1hC9J2NFyi8vCTt91Fh04KGip0AaG9zuCk2wQCVyoNU3Hjezee9bq92duzzTmxsRJoy+jEZZZYo\n",
       "GTKJ6SJngdJqAfRzpze0+jHreUtPc7gpBLQnIYK6BYp/uGhw9YK688eu7v95ysgshcg9qSLMo3JC\n",
       "4jqLKQFBgdKDPoQ+Pltb8dUyQLpeDjeVgI6EgLIQFT5tEl3rn2losHVsexbZ3EyT9wE1uGdkIPcy\n",
       "BGxn8QUq1QrA5nqW5i2tLqvrrM9NK6AdkVIvL9E9bZL/oyfMVd/jqvc8LylzRBKDJSzIExwhQzuL\n",
       "QYGQj4rHfFTc8mUdu3E7yoLtbTe9gI4EqVgVkug2i5+uXGo919ixbRog+3fTbQ8qJe4ZOYNfMoTI\n",
       "OoshUNosgO60AisX15aeI2PSIp5KiFLI9ubb1vV3Qb2ltwLakUCDAkWX7/nHKRmmGIl9VgYsUhJm\n",
       "2NXjKYADtM1ygne9QQDIXlk49FBstMKx66D1v4+XuQr7vqTe0VcBHQlRWiOCbmmSYe2SqtL6q5rJ\n",
       "zsTb7lKx3FKOYC4DoqyS/B5bvLPxvD9Qtf6saxYLQGJErmDOdOMr/zo96km1nElr8bmPOBwI9COv\n",
       "HnFPRIwmkSOv9kcAS4heRsidOkpeWBgZM+UBrTFAXNYL5Vf2ii9c1trNzpYdaoVil3WIc+wdk+gQ\n",
       "noie3ecCcxt9ITcLAPWt/laGEO/9U6PmzZkenTtsSMQ8uYywJVW+grCstAvCIaAdArAsIWkRDDs/\n",
       "KzLm2YcjY1Lv0UdW73HabE9n6V66cxSzfEmuJssTpKGVp+0vHq73FwL46eOjpMpbRAnNmJFrGJNu\n",
       "Ukf9Yrz+3rghiumCKNXXWPhLYcjxGsIpoCMsIRoFITkW8AuyM8jC1+/QLx4bozCEJIq38+1rtpR6\n",
       "V/yzb8eBlRb3fo5l783N0CWolAzJHaVNzkrTzlEp2bQ2q3TC5gn6wpnoQAmwSiGh2GitnTmVMc5O\n",
       "UyfKWUKCIsU7+fZDKwqdT6DDpvkzAX4/+AMFjk0tDp5GRXLpQ2MUmhgDp5gxQT8+Y7hyPsMi8uxF\n",
       "71H0oebujHALECjFKaW9Lm68n18wXp2kVzIcABytD5iXFzg+WVXkegpAsOOYziqo0OkK76GyquC3\n",
       "ltZAzMhhqlSNmmWTE5T6e3IN05ITFLM4GdN0vtZ3ob8Jh1NAKXFbm5PtLU/eqTSlGjkNAJjdgn/N\n",
       "aedXa0tdi7+t9G0FIF49rtMSEgAs1kDLkTPO7ebm4IUWeyh1bKomXqlgMG6kJmHcSM0clYLJ8XtR\n",
       "1GTnbV3F6I5wCGikAb402npp1h1s7LQUZZSMIfALFOuL3UUrfnS8+rez7v9qcold5tilgHbO1fjK\n",
       "9ubb17u9oshxzMiUBKXWqJNxd+fqb0tLVs4lILFnK71H0Ind7uiPgACVcFJlrb0tV6DzxqqTIhUM\n",
       "CwDf1/rrVhTa33/3pGPxJYdQ2l2cbgVcQSosdx8uqnDtbGjh9SlDVSMNWhlnilfqZk42Th2ZpLpf\n",
       "xrHec5e815zrr0dfBZSwzkZfqsv+1FS1KUknUwPARVvItfKUY+cn57yP7qv07UE3p8B2uhUwLk09\n",
       "e0SCOrK+hbdYHYLjRIl71wWzv9jpEoeOHhGRrJAzyEyNiJuUqX0g2sBN5kGK6y2Blp5M3lsB9Qh4\n",
       "y2Ja6x6+i0ucmKgwMATwhSjdUu49tKrQ/pvN5d53ml2CGwCmJipmKjgmyuaXzNeL2a0AkQ01Th5j\n",
       "2DktO3Jyk8f9vcOBQHV94OK+fPumJmvQHxJoWkaKWq9Vs+yUsbq0zGT1I4RgeH2b5wef7+c7bl8F\n",
       "eKgoHVVZa8ZPEORzR6sT1BzDUAD/d9F78e2Tzv99v8D+fLVTqAKAsbGamKey1Mt9Ann4eH3gTXTz\n",
       "idWtAJ8PQWOk7NzSeQn/OTHDuEikVF1R4z8BQCy+6D1aWRfY0tTGG2OM8rRoPaeIj5ZHzJxszElN\n",
       "VM8K8JS5WOfv8mzRnQAKoEhmt8gyPM4lU9SmBK1MCQBnW4KONT86v1hZ1PbwSXPw4JWussVjtH9Y\n",
       "NCoiL9UoH/6PSu8jFrfY2t36erQHXLIEakMi1SydmzB31h3GGXFDFNPaK8Rme9B79Ixrd0WN+1ij\n",
       "NRQ/doRmuFLBkHSTOm5GruG+pFjFdAmorG4IXH1Qua6ASniclfFtDYt+oUjKipPrCQB7QBQ2lrgP\n",
       "fFzm+9XWUtcqJ3/5vDLDpJ79XHZk3u8nGZ42qlj1+ydtbxysCezrydp6ugmipNJ7WBPB5tydY0jP\n",
       "HaVNzs3QzeE4ZpTbI+ZbnSFPbVOw9vsfnVvqWnirPyCNGD08IlqtYkh2hjZ5dErEQzoNm+6ykyOt\n",
       "Lt5/PQEuSRRKo22VkydK+vvS1XEKlhCJAnsqvcVvH7f/ZU2R67eXbMEGAMiIV5oWZWiWvz5Fv2xG\n",
       "sjqNJQRvn3Rs2lji/lNP19VjAQDgD7FHhujZB9OGqYxRkZxixgRDVlqS6uEOFaJUVu0rPFzctrnF\n",
       "JqijImVp8dEKVWyUXDk92zAuMZ6bFwpBU1HrOw6AdhQgUooChb0+ItMbWJitSo5Ws3IAOGEOtL53\n",
       "0vHZih9sC4vtofZ7Qu6523V/fmGcds1TY3V36pUsBwAbSlxnVh2xLfAD/IAIMDf7XYIkNmXfpp2l\n",
       "18rkAJAy9HKFaIr/qULkeQQKy9zf1JgDB2uaeFNGijo5QsUyacNUUTOnGO42xSnv4oOwpDi1zYkc\n",
       "efUc3I5Gk6PhyTuVKaOGyLUAYPGIoY9Pu/atL/L92+4q9wbflRJ2Trpm/jPjdBtfnqB/dIThcl8A\n",
       "KG7hbRuKnb8qsQsVvVlTrwQAQMUlf3kwJI24Z4JhPMtcfng5GcH49GsrxJpGvvHIaeem2ma+KSjQ\n",
       "lIwUdYyCY8j4dE1KzijNnIP2llF2wcXNnsoapw9XxsgYAl6k+KzUXbi2yP3KR2ecf6z3BFsBICdW\n",
       "nvnIaG3eHybqX7vbpEqUMT+9OL4Qpe8VON7dXuFd39v19FoAABRVePbGGuXTszO0P7tu6lghUonE\n",
       "llRdrhArLvmKdh9u29jcFiRRkfLUxBiFNiqSU9icoZQHo5mYBI1MBgBH6wMNb+U7Pnw337H4gi1Y\n",
       "ciWs+uks3Z9fztUvfzxTm9Ne8XXkvQLHNytOOZeiD4e0PgkAIAYCYknKUNUDSXEKzdWNpnil7r4p\n",
       "xqkjTarZMtk/K8TQ6Qve78qqvXurGwIJqcOUKfUWHsm8KGvxSP68YudXq4pcj39X49uOK2X142O0\n",
       "Tz5/u/7TVybqH0rSya6ZBwD21/gubbrgWdDgEOx9WUhfBaC2ibcEBYm7a7x+ukrBMNcEZggyR0TE\n",
       "T8zUPjikQ4VosQZbTpS4vqizBKvqmvjsqnpfzaZyx9JPiz1/bfGKdgD45XB1zoIMzYbfTdS/NClB\n",
       "Gct0USiY3YL/g0LHy/uq/Ef6uo5+n0R/vyhp17Klpge763f8rMu6YU/zrn2nml+2WtH+Z+5IAAFc\n",
       "2bUTdTDOSNa9+cQY7YLsOIXhevEkCvzph7a8laecz/Un/z4/Ae04XeL3UQb57IwU9ZDr9UuKVajv\n",
       "nxp1+1UVIo/LjztZkKH59fO3G/JemqCfmaCRqbqbd90ZZ8FfjtkfAyD0J/9+C2h1hDwsSxvGjNDc\n",
       "b4zk5NfrSwiQblLHzZhg+Jf4aPlUwpDqkQqa9nimbt1/TDH8OitGMaQnj+RJS6B1fbF7SY1TqO5v\n",
       "/v0WAADl1f7zokgS7s7VT2DZ7pegUjBM7mjtiDZbcN4j0YrHH0rXpCtY0qPX0cVL0rv5jv/ZXend\n",
       "0u/EESYBAFBU4T4Qa5TflZOhTe7pmKpaP8kCVUVw1+yhXfJWvn1P3hnXi33JsTN6PnP3hHZ8Z3/h\n",
       "aLHzmkNPuPj7Bc/F/Q38CwjTpSwQXgE4Vmwry9tpfq/ZFgqFMy4AVDtCvi8rvMvOmv0N4YwbVgEA\n",
       "sPM72/KVnzfspmH7HQGCRLG2yL1+z8XwvPcdCbsAANh+xPzstgMtxeGKt+6MK3/tacfvwhWvIwMi\n",
       "oKEBtm0H7W+UVfkc/Y1V0BhoPlDr/w1w/eu1vjIgAgDg22OtX6/eYfnEz/focrZTHAFR+PSs56/7\n",
       "q32nwpjazxgwAQCwcU/T62t3WL7r6/jVRa6/byp1rei+Z98ZUAEAhEPHPc8fKnTU9nbgtnOe8h0l\n",
       "9hcGIqmODLQAHCy2Xti6v/XNRivf43f4fFvIteu854+VHnR7q9tfBlwAAGz+pnndB9vM26UebAe8\n",
       "SLHujPOTPVW+rwY+sxskAAC2HrA8t2Vvc7ffP1r9o+vwR2dcr92InIAbKKC1FZ5tB1tf+/G8p8sv\n",
       "N/9Q5zd/XR34LYCwV5JdccMEAMDBk45DH243r/X4xGvqxFa/GNpS7n6rwOwNWwHVE26oAADYurf1\n",
       "zx/utOzt+DMKYM0p17YtZZ5VNzqfsB2HewG1WXE8PoZ7gOclbTIvynZf9JV+fqZtfgs/8F/Nu5rB\n",
       "EIBmJ+8QRMmpU7EzGRsf2FzuePqYRbzh/zE26EwdrT10f6r6o8HOYzCJB9Dpff8tbnGLG8L/A/WE\n",
       "roTBs2RqAAAAAElFTkSuQmCC'\n",
       "     style='height:25px; border-radius:12px; display: inline-block; float: left; vertical-align: middle'></img>\n",
       "\n",
       "\n",
       "  <img src='data:image/png;base64,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'\n",
       "       style='height:15px; border-radius:12px; display: inline-block; float: left'></img>\n",
       "  \n",
       "\n",
       "\n",
       "\n",
       "\n",
       "</div>\n"
      ]
     },
     "metadata": {},
     "output_type": "display_data"
    },
    {
     "data": {
      "text/plain": [
       "[CpuDevice(id=0)]"
      ]
     },
     "execution_count": 4,
     "metadata": {},
     "output_type": "execute_result"
    }
   ],
   "source": [
    "from simphox.circuit import rectangular\n",
    "from simphox.utils import random_unitary\n",
    "from jax import jit\n",
    "import jax\n",
    "import numpy as np\n",
    "import jax.numpy as jnp\n",
    "from mlflow import log_metric, log_param, log_artifacts\n",
    "import wandb\n",
    "\n",
    "import holoviews as hv\n",
    "hv.extension('bokeh')\n",
    "\n",
    "from dataclasses import dataclass\n",
    "\n",
    "jax.config.update('jax_platform_name', 'cpu')  # change to cpu if not using gpu (slower!)\n",
    "jax.config.update(\"jax_enable_x64\", False)\n",
    "jax.devices()"
   ]
  },
  {
   "cell_type": "code",
   "execution_count": 5,
   "id": "379e4254-c9bd-4392-bc68-9b6634311ef9",
   "metadata": {},
   "outputs": [],
   "source": [
    "mesh = rectangular(random_unitary(256).astype(np.complex64)) # use this object to get the necessary functions\n",
    "mesh_0 = mesh\n",
    "mesh_1 = rectangular(random_unitary(256).astype(np.complex64))\n",
    "mesh_2 = rectangular(random_unitary(256).astype(np.complex64))"
   ]
  },
  {
   "cell_type": "code",
   "execution_count": 7,
   "id": "52cc7007",
   "metadata": {},
   "outputs": [],
   "source": [
    "from PIL import Image, ImageFilter\n",
    "data_file_path = \"/Users/matthewho/Photonic_computing/simphox-notebooks/aircraft/fgvc-aircraft-2013b/data\""
   ]
  },
  {
   "cell_type": "code",
   "execution_count": 8,
   "id": "4e97baad-aa12-4e3a-a20a-aa1e4cd378bb",
   "metadata": {},
   "outputs": [],
   "source": [
    "y_train_path = data_file_path + \"/images_manufacturer_train.txt\"\n",
    "y_test_path = data_file_path + \"/images_manufacturer_test.txt\"\n",
    "\n",
    "def populate_set(path):\n",
    "    manufacturer_dict = dict()\n",
    "    with open(path, 'r') as file:\n",
    "        for line in file:\n",
    "            line = line.strip().split()\n",
    "            if len(line) == 2:\n",
    "                key = line[0]\n",
    "                value = line[1]\n",
    "                manufacturer_dict[key] = value\n",
    "    return manufacturer_dict\n",
    "\n",
    "y_train_dict = populate_set(y_train_path)\n",
    "y_test_dict = populate_set(y_test_path)"
   ]
  },
  {
   "cell_type": "code",
   "execution_count": 9,
   "id": "c277aa51",
   "metadata": {},
   "outputs": [
    {
     "name": "stdout",
     "output_type": "stream",
     "text": [
      "number of training examples: 2367\n",
      "number of test examples: 2368\n"
     ]
    }
   ],
   "source": [
    "print(f\"number of training examples: {len(y_train_dict)}\")\n",
    "print(f\"number of test examples: {len(y_test_dict)}\")"
   ]
  },
  {
   "cell_type": "code",
   "execution_count": 10,
   "id": "8fa4078a",
   "metadata": {},
   "outputs": [
    {
     "name": "stdout",
     "output_type": "stream",
     "text": [
      "['ATR', 'Airbus', 'Antonov', 'Beechcraft', 'Boeing', 'Canadair', 'Cessna', 'Dornier', 'Embraer', 'Eurofighter', 'Fairchild', 'Fokker', 'Ilyushin', 'Panavia', 'Piper', 'Robin', 'Saab', 'Supermarine', 'Tupolev', 'Yakovlev']\n"
     ]
    }
   ],
   "source": [
    "# one hot encode the manufacturers\n",
    "possible_labels = sorted(list(set(y_train_dict.values())))\n",
    "print(possible_labels)\n",
    "num_manufacturers = len(possible_labels)\n",
    "\n",
    "one_hot_dict = {}\n",
    "for manufacturer_idx in range(len(possible_labels)):\n",
    "    one_hot_dict[possible_labels[manufacturer_idx]] = np.zeros(num_manufacturers)\n",
    "    one_hot_dict[possible_labels[manufacturer_idx]][manufacturer_idx] = 1\n",
    "# for key, value in one_hot_dict.items():\n",
    "#     print(f\"manufacturer: {key} and corresponding array: {value}\")"
   ]
  },
  {
   "cell_type": "code",
   "execution_count": 11,
   "id": "140afab9",
   "metadata": {},
   "outputs": [],
   "source": [
    "num_train_examples = len(y_train_dict)\n",
    "num_test_examples = len(y_test_dict)"
   ]
  },
  {
   "cell_type": "code",
   "execution_count": 12,
   "id": "7caec0b6",
   "metadata": {},
   "outputs": [
    {
     "name": "stdout",
     "output_type": "stream",
     "text": [
      "(2367, 16, 16)\n"
     ]
    }
   ],
   "source": [
    "from utils import norm_inputs\n",
    "\n",
    "x_train_raw = np.zeros((len(y_train_dict), 256, 256))\n",
    "x_train = np.zeros((len(y_train_dict), 256))\n",
    "x_test_raw = np.zeros((len(y_test_dict), 256, 256))\n",
    "x_test = np.zeros((len(y_test_dict), 256))\n",
    "y_train = np.zeros((len(y_train_dict), num_manufacturers))\n",
    "y_test = np.zeros((len(y_test_dict), num_manufacturers))\n",
    "\n",
    "\n",
    "def populate():\n",
    "    def populate_dataset(label_dict, data, labels):\n",
    "        counter = 0\n",
    "        for img_num in label_dict.keys():\n",
    "            path = f\"/Users/matthewho/Photonic_computing/simphox-notebooks/aircraft/fgvc-aircraft-2013b/data/images/{img_num}.jpg\"\n",
    "            img = Image.open(path)\n",
    "            img = img.convert('L')                                  # grayscale\n",
    "            width, height = img.size\n",
    "            cropped_img = img.crop((0, 0, width, height - 20))        # crop the copyright\n",
    "            filtered_img = cropped_img.filter(ImageFilter.GaussianBlur(radius = 5))    # not sure what to put as SD, putting 5 for now\n",
    "            downsampled_img = filtered_img.resize((256, 256))         # downsample to 256 x 256\n",
    "            data[counter, :, :] = downsampled_img                     # add to x_train\n",
    "            labels[counter,:] = one_hot_dict[label_dict[img_num]]     # add correct label\n",
    "            counter += 1\n",
    "    populate_dataset(y_train_dict, x_train_raw, y_train)\n",
    "    populate_dataset(y_test_dict, x_test_raw, y_test)\n",
    "    \n",
    "def fourier(freq_radius):\n",
    "    min_r, max_r = 128 - freq_radius, 128 + freq_radius\n",
    "    x_train_ft = np.fft.fftshift(np.fft.fft2(x_train_raw), axes=(1, 2))\n",
    "    x_test_ft = np.fft.fftshift(np.fft.fft2(x_test_raw), axes=(1, 2))\n",
    "    x_train_ft = x_train_ft[:, min_r:max_r, min_r:max_r]\n",
    "    x_test_ft = x_test_ft[:, min_r:max_r, min_r:max_r]\n",
    "    print(x_train_ft.shape)\n",
    "    \n",
    "    x_train = norm_inputs(x_train_ft.reshape((len(y_train_dict), -1))).astype(np.complex64)\n",
    "    x_test = norm_inputs(x_test_ft.reshape(len(y_test_dict), -1)).astype(np.complex64)\n",
    "    return x_train, x_test\n",
    "\n",
    "populate()\n",
    "x_train, x_test = fourier(8)"
   ]
  },
  {
   "cell_type": "code",
   "execution_count": 13,
   "id": "bfa354f9",
   "metadata": {},
   "outputs": [
    {
     "name": "stdout",
     "output_type": "stream",
     "text": [
      "x_train: (2367, 256)\n",
      "y_train: (2367, 20)\n",
      "x_test: (2368, 256)\n",
      "y_test: (2368, 20)\n"
     ]
    }
   ],
   "source": [
    "print(f\"x_train: {x_train.shape}\")\n",
    "print(f\"y_train: {y_train.shape}\")\n",
    "print(f\"x_test: {x_test.shape}\")\n",
    "print(f\"y_test: {y_test.shape}\")"
   ]
  },
  {
   "cell_type": "code",
   "execution_count": 14,
   "id": "3574e70f",
   "metadata": {},
   "outputs": [],
   "source": [
    "# randomize order of images\n",
    "\n",
    "train_perm = np.random.permutation(x_train.shape[0])\n",
    "x_train = x_train[train_perm]\n",
    "y_train = y_train[train_perm]\n",
    "test_perm = np.random.permutation(x_test.shape[0])\n",
    "x_test = x_test[test_perm]\n",
    "y_test = y_test[test_perm]"
   ]
  },
  {
   "cell_type": "markdown",
   "id": "5a0946a6-bf79-4ce3-9d4e-dc0e16f4e19c",
   "metadata": {},
   "source": [
    "# JIT function with benchmarking"
   ]
  },
  {
   "cell_type": "code",
   "execution_count": 15,
   "id": "5c59c1b1-716d-4a76-b836-f74d95c8dac6",
   "metadata": {},
   "outputs": [
    {
     "name": "stdout",
     "output_type": "stream",
     "text": [
      "Compiling...\n",
      "CPU times: user 1.58 s, sys: 198 ms, total: 1.78 s\n",
      "Wall time: 1.53 s\n",
      "Done!\n",
      "JAX+JIT:\n",
      "338 ms ± 6.57 ms per loop (mean ± std. dev. of 7 runs, 1 loop each)\n",
      "Numpy:\n",
      "597 ms ± 38.9 ms per loop (mean ± std. dev. of 7 runs, 1 loop each)\n"
     ]
    }
   ],
   "source": [
    "# fn = jit(mesh.propagate_matrix_fn(use_jax=False, explicit=False))\n",
    "prop_jit = jit(mesh.propagate_matrix_fn(use_jax=True, explicit=True))\n",
    "prop = mesh.propagate_matrix_fn(use_jax=False, explicit=True)\n",
    "print('Compiling...')\n",
    "%time prop_jit()\n",
    "print('Done!')\n",
    "print('JAX+JIT:')\n",
    "%timeit prop_jit(mesh.params)\n",
    "print('Numpy:')\n",
    "%timeit prop(mesh.params)"
   ]
  },
  {
   "cell_type": "code",
   "execution_count": 16,
   "id": "bc1f5f45-0be4-4630-8b19-b1b2df90550a",
   "metadata": {},
   "outputs": [
    {
     "name": "stdout",
     "output_type": "stream",
     "text": [
      "Compiling regular...\n",
      "CPU times: user 1.18 s, sys: 66.8 ms, total: 1.25 s\n",
      "Wall time: 1.14 s\n",
      "Done!\n",
      "Post-compilation JIT:\n",
      "302 ms ± 1.8 ms per loop (mean ± std. dev. of 7 runs, 1 loop each)\n",
      "No JIT:\n",
      "979 ms ± 20.1 ms per loop (mean ± std. dev. of 7 runs, 1 loop each)\n"
     ]
    }
   ],
   "source": [
    "from jax import grad\n",
    "\n",
    "matrix_fn = mesh.matrix_fn(use_jax=True)\n",
    "# in_situ_matrix_fn = mesh.in_situ_matrix_fn(all_analog=True)\n",
    "ones = jnp.ones(256, dtype=jnp.complex64)\n",
    "from jax import vjp\n",
    "tr = lambda u: jnp.abs(u[0, 0]) ** 2\n",
    "fn = lambda params: tr(matrix_fn(params))\n",
    "fn_jit = jit(fn)\n",
    "# in_situ_fn = lambda params: tr(in_situ_matrix_fn(params))\n",
    "# in_situ_fn_jit = jit(in_situ_fn)\n",
    "\n",
    "grad_fn = grad(fn)\n",
    "# grad_in_situ_fn = grad(in_situ_fn)\n",
    "grad_fn_jit = grad(fn_jit)\n",
    "# grad_in_situ_fn_jit = grad(in_situ_fn_jit)\n",
    "\n",
    "print('Compiling regular...')\n",
    "%time grad_fn_jit(mesh.params)\n",
    "print('Done!')\n",
    "print('Post-compilation JIT:')\n",
    "%timeit grad_fn_jit(mesh.params)\n",
    "print('No JIT:')\n",
    "%timeit grad_fn(mesh.params)\n",
    "\n",
    "# print('Compiling in situ...')\n",
    "# %time grad_in_situ_fn_jit(mesh.params)\n",
    "# print('Done!')\n",
    "# print('Post-compilation JIT:')\n",
    "# %timeit grad_in_situ_fn_jit(mesh.params)\n",
    "# print('No JIT:')\n",
    "# %timeit grad_in_situ_fn(mesh.params)"
   ]
  },
  {
   "cell_type": "markdown",
   "id": "70cdbdd1-e1b6-439d-a3a9-17db204ddb7d",
   "metadata": {},
   "source": [
    "## Pure JAX ONN\n",
    "\n",
    "Implementation of an ONN in JAX using `simphox` and relevant benchmarking."
   ]
  },
  {
   "cell_type": "code",
   "execution_count": 30,
   "id": "cfb4272e-c29f-493c-b103-f34a9348c21e",
   "metadata": {},
   "outputs": [],
   "source": [
    "from jax.scipy.special import logsumexp\n",
    "from jax import vmap, vjp\n",
    "\n",
    "def dropout_softmax(outputs, num_classes: int = 20):\n",
    "    return jax.nn.log_softmax(outputs[:num_classes]).astype(jnp.float32)\n",
    "\n",
    "# in_situ_matrix_fn = (mesh.in_situ_matrix_fn(all_analog=True))\n",
    "matrix_fn = jit(mesh.matrix_fn(use_jax=True))\n",
    "\n",
    "def aircraft_onn(params, inputs):\n",
    "    # per-example predictions\n",
    "    outputs = inputs\n",
    "    for param in params:\n",
    "        outputs = jnp.abs(matrix_fn(param, outputs))[:, 0] + 0j\n",
    "    outputs = jnp.abs(outputs) ** 2\n",
    "    return dropout_softmax(outputs, 20)\n",
    "\n",
    "batched_aircraft_onn = vmap(aircraft_onn, in_axes=(None, 0))"
   ]
  },
  {
   "cell_type": "code",
   "execution_count": 18,
   "id": "d5a84447-9416-4ff7-9e9a-82483436731e",
   "metadata": {},
   "outputs": [
    {
     "name": "stdout",
     "output_type": "stream",
     "text": [
      "Defining initial params...\n",
      "Compiling batch loss grad...\n",
      "inputs: Traced<ShapedArray(complex64[256])>with<BatchTrace(level=4/0)> with\n",
      "  val = Traced<ShapedArray(complex64[30,256])>with<DynamicJaxprTrace(level=3/0)>\n",
      "  batch_dim = 0\n",
      "CPU times: user 2.68 s, sys: 51.4 ms, total: 2.73 s\n",
      "Wall time: 2.62 s\n",
      "Benchmarking batch loss grad...\n",
      "279 ms ± 2.85 ms per loop (mean ± std. dev. of 7 runs, 1 loop each)\n",
      "Compiling single loss grad...\n",
      "inputs: Traced<ShapedArray(complex64[256])>with<DynamicJaxprTrace(level=3/0)>\n",
      "CPU times: user 2.13 s, sys: 36 ms, total: 2.16 s\n",
      "Wall time: 2.05 s\n",
      "Benchmarking single loss grad...\n",
      "137 ms ± 294 µs per loop (mean ± std. dev. of 7 runs, 10 loops each)\n"
     ]
    }
   ],
   "source": [
    "@jit\n",
    "def batch_loss(params, inputs, targets):\n",
    "    preds = batched_aircraft_onn(params, inputs)\n",
    "    return -jnp.mean(preds.squeeze() * targets).real\n",
    "\n",
    "@jit\n",
    "def loss(params, inputs, targets):\n",
    "    preds = aircraft_onn(params, inputs)\n",
    "    return -jnp.mean(preds.squeeze() * targets).real\n",
    "\n",
    "print('Defining initial params...')\n",
    "init_params = [mesh_0.params, mesh_1.params, mesh_2.params]\n",
    "\n",
    "print('Compiling batch loss grad...')\n",
    "%time grads = grad(batch_loss)(init_params, jnp.array(x_train[:30]).astype(np.complex64), jnp.array(y_train[:30]).astype(np.float32))\n",
    "print('Benchmarking batch loss grad...')\n",
    "%timeit grads = grad(batch_loss)(init_params, jnp.array(x_train[:30]).astype(np.complex64), jnp.array(y_train[:30]).astype(np.float32))\n",
    "\n",
    "print('Compiling single loss grad...')\n",
    "%time grads = grad(loss)(init_params, jnp.array(x_train[0]).astype(np.complex64), jnp.array(y_train[0]).astype(np.float32))\n",
    "print('Benchmarking single loss grad...')\n",
    "%timeit grads = grad(loss)(init_params, jnp.array(x_train[0]).astype(np.complex64), jnp.array(y_train[0]).astype(np.float32))"
   ]
  },
  {
   "cell_type": "markdown",
   "id": "6ab4c993-4427-487f-95e6-52ac270fd1e6",
   "metadata": {},
   "source": [
    "### Training 3-layer pure JAX ONN on MNIST"
   ]
  },
  {
   "cell_type": "code",
   "execution_count": 19,
   "id": "47a80341-ef00-45bf-895f-154e811e20fa",
   "metadata": {},
   "outputs": [],
   "source": [
    "from jax.example_libraries.optimizers import adam\n",
    "from tqdm.notebook import tqdm as pbar\n",
    "from jax import value_and_grad\n",
    "x_train = jnp.array(x_train).astype(np.complex64)\n",
    "y_train = jnp.array(y_train).astype(np.float32)"
   ]
  },
  {
   "cell_type": "code",
   "execution_count": 20,
   "id": "036f0e44",
   "metadata": {},
   "outputs": [
    {
     "name": "stdout",
     "output_type": "stream",
     "text": [
      "num_train: 2367\n",
      "num_test: 2368\n"
     ]
    }
   ],
   "source": [
    "num_train = x_train.shape[0]\n",
    "num_test = x_test.shape[0]\n",
    "print(f\"num_train: {num_train}\")\n",
    "print(f\"num_test: {num_test}\")"
   ]
  },
  {
   "cell_type": "code",
   "execution_count": 32,
   "id": "11c2a3b7-19f9-4e5c-a1db-2d081b2e10f9",
   "metadata": {},
   "outputs": [],
   "source": [
    "import matplotlib.pyplot as plt"
   ]
  },
  {
   "cell_type": "code",
   "execution_count": 46,
   "id": "717f3634-69b8-42b7-a9c9-85c2eae81eae",
   "metadata": {},
   "outputs": [
    {
     "data": {
      "application/vnd.jupyter.widget-view+json": {
       "model_id": "93a1fd5a6bfa4064867611a0549be63c",
       "version_major": 2,
       "version_minor": 0
      },
      "text/plain": [
       "  0%|          | 0/36 [00:00<?, ?it/s]"
      ]
     },
     "metadata": {},
     "output_type": "display_data"
    },
    {
     "name": "stdout",
     "output_type": "stream",
     "text": [
      "Batch size 64, epoch 1: test accuracy is 0.1972128450870514\n",
      "Train accuracy is 0.20912547409534454\n"
     ]
    },
    {
     "data": {
      "application/vnd.jupyter.widget-view+json": {
       "model_id": "a62df69de2844ca6a146dc1197cb28f2",
       "version_major": 2,
       "version_minor": 0
      },
      "text/plain": [
       "  0%|          | 0/36 [00:00<?, ?it/s]"
      ]
     },
     "metadata": {},
     "output_type": "display_data"
    },
    {
     "name": "stdout",
     "output_type": "stream",
     "text": [
      "Batch size 64, epoch 2: test accuracy is 0.2736486494541168\n",
      "Train accuracy is 0.29911279678344727\n"
     ]
    },
    {
     "data": {
      "application/vnd.jupyter.widget-view+json": {
       "model_id": "c9c698173be24dc49640918b904eb002",
       "version_major": 2,
       "version_minor": 0
      },
      "text/plain": [
       "  0%|          | 0/36 [00:00<?, ?it/s]"
      ]
     },
     "metadata": {},
     "output_type": "display_data"
    },
    {
     "name": "stdout",
     "output_type": "stream",
     "text": [
      "Batch size 64, epoch 3: test accuracy is 0.27491554617881775\n",
      "Train accuracy is 0.30080270767211914\n"
     ]
    },
    {
     "data": {
      "application/vnd.jupyter.widget-view+json": {
       "model_id": "833e3a81c53847c4900be2e16f9994f9",
       "version_major": 2,
       "version_minor": 0
      },
      "text/plain": [
       "  0%|          | 0/36 [00:00<?, ?it/s]"
      ]
     },
     "metadata": {},
     "output_type": "display_data"
    },
    {
     "name": "stdout",
     "output_type": "stream",
     "text": [
      "Batch size 64, epoch 4: test accuracy is 0.2850506901741028\n",
      "Train accuracy is 0.31051963567733765\n"
     ]
    },
    {
     "data": {
      "application/vnd.jupyter.widget-view+json": {
       "model_id": "5576d27076074b7cabb188af0bedd4ef",
       "version_major": 2,
       "version_minor": 0
      },
      "text/plain": [
       "  0%|          | 0/36 [00:00<?, ?it/s]"
      ]
     },
     "metadata": {},
     "output_type": "display_data"
    },
    {
     "name": "stdout",
     "output_type": "stream",
     "text": [
      "Batch size 64, epoch 5: test accuracy is 0.29434123635292053\n",
      "Train accuracy is 0.31727924942970276\n"
     ]
    },
    {
     "data": {
      "application/vnd.jupyter.widget-view+json": {
       "model_id": "6c0d0fdbca7847c7aa850f7100265866",
       "version_major": 2,
       "version_minor": 0
      },
      "text/plain": [
       "  0%|          | 0/36 [00:00<?, ?it/s]"
      ]
     },
     "metadata": {},
     "output_type": "display_data"
    },
    {
     "name": "stdout",
     "output_type": "stream",
     "text": [
      "Batch size 64, epoch 6: test accuracy is 0.29518580436706543\n",
      "Train accuracy is 0.3210815489292145\n"
     ]
    },
    {
     "data": {
      "application/vnd.jupyter.widget-view+json": {
       "model_id": "33789fc06d444316b838698c1c75a67a",
       "version_major": 2,
       "version_minor": 0
      },
      "text/plain": [
       "  0%|          | 0/36 [00:00<?, ?it/s]"
      ]
     },
     "metadata": {},
     "output_type": "display_data"
    },
    {
     "name": "stdout",
     "output_type": "stream",
     "text": [
      "Batch size 64, epoch 7: test accuracy is 0.296875\n",
      "Train accuracy is 0.33248838782310486\n"
     ]
    },
    {
     "data": {
      "application/vnd.jupyter.widget-view+json": {
       "model_id": "371f46a796f5439ebc53ed7f3f2472ab",
       "version_major": 2,
       "version_minor": 0
      },
      "text/plain": [
       "  0%|          | 0/36 [00:00<?, ?it/s]"
      ]
     },
     "metadata": {},
     "output_type": "display_data"
    },
    {
     "name": "stdout",
     "output_type": "stream",
     "text": [
      "Batch size 64, epoch 8: test accuracy is 0.2960304021835327\n",
      "Train accuracy is 0.33671313524246216\n"
     ]
    },
    {
     "data": {
      "application/vnd.jupyter.widget-view+json": {
       "model_id": "cee9cfa9b4fe451cb3d2e434492ec9a0",
       "version_major": 2,
       "version_minor": 0
      },
      "text/plain": [
       "  0%|          | 0/36 [00:00<?, ?it/s]"
      ]
     },
     "metadata": {},
     "output_type": "display_data"
    },
    {
     "name": "stdout",
     "output_type": "stream",
     "text": [
      "Batch size 64, epoch 9: test accuracy is 0.3006756901741028\n",
      "Train accuracy is 0.33924800157546997\n"
     ]
    },
    {
     "data": {
      "application/vnd.jupyter.widget-view+json": {
       "model_id": "aa4e5430ae574a23b60688026a87e81d",
       "version_major": 2,
       "version_minor": 0
      },
      "text/plain": [
       "  0%|          | 0/36 [00:00<?, ?it/s]"
      ]
     },
     "metadata": {},
     "output_type": "display_data"
    },
    {
     "name": "stdout",
     "output_type": "stream",
     "text": [
      "Batch size 64, epoch 10: test accuracy is 0.2981418967247009\n",
      "Train accuracy is 0.34516265988349915\n"
     ]
    },
    {
     "data": {
      "application/vnd.jupyter.widget-view+json": {
       "model_id": "f49be85c263744758b7d57d13cf67e01",
       "version_major": 2,
       "version_minor": 0
      },
      "text/plain": [
       "  0%|          | 0/36 [00:00<?, ?it/s]"
      ]
     },
     "metadata": {},
     "output_type": "display_data"
    },
    {
     "name": "stdout",
     "output_type": "stream",
     "text": [
      "Batch size 64, epoch 11: test accuracy is 0.3010979890823364\n",
      "Train accuracy is 0.34643009305000305\n"
     ]
    },
    {
     "data": {
      "application/vnd.jupyter.widget-view+json": {
       "model_id": "9c5386c14d5d4a3fadd6d3d579118143",
       "version_major": 2,
       "version_minor": 0
      },
      "text/plain": [
       "  0%|          | 0/36 [00:00<?, ?it/s]"
      ]
     },
     "metadata": {},
     "output_type": "display_data"
    },
    {
     "name": "stdout",
     "output_type": "stream",
     "text": [
      "Batch size 64, epoch 12: test accuracy is 0.30236488580703735\n",
      "Train accuracy is 0.347275048494339\n"
     ]
    },
    {
     "data": {
      "application/vnd.jupyter.widget-view+json": {
       "model_id": "90686059e430479780204baa7ee98226",
       "version_major": 2,
       "version_minor": 0
      },
      "text/plain": [
       "  0%|          | 0/36 [00:00<?, ?it/s]"
      ]
     },
     "metadata": {},
     "output_type": "display_data"
    },
    {
     "name": "stdout",
     "output_type": "stream",
     "text": [
      "Batch size 64, epoch 13: test accuracy is 0.3036317527294159\n",
      "Train accuracy is 0.3489649295806885\n"
     ]
    },
    {
     "data": {
      "application/vnd.jupyter.widget-view+json": {
       "model_id": "742162864ad343cd94448b932deac00f",
       "version_major": 2,
       "version_minor": 0
      },
      "text/plain": [
       "  0%|          | 0/36 [00:00<?, ?it/s]"
      ]
     },
     "metadata": {},
     "output_type": "display_data"
    },
    {
     "name": "stdout",
     "output_type": "stream",
     "text": [
      "Batch size 64, epoch 14: test accuracy is 0.30616554617881775\n",
      "Train accuracy is 0.35065484046936035\n"
     ]
    },
    {
     "data": {
      "application/vnd.jupyter.widget-view+json": {
       "model_id": "daeb812830fe4630911a584a18fbadc5",
       "version_major": 2,
       "version_minor": 0
      },
      "text/plain": [
       "  0%|          | 0/36 [00:00<?, ?it/s]"
      ]
     },
     "metadata": {},
     "output_type": "display_data"
    },
    {
     "name": "stdout",
     "output_type": "stream",
     "text": [
      "Batch size 64, epoch 15: test accuracy is 0.30616554617881775\n",
      "Train accuracy is 0.35487958788871765\n"
     ]
    },
    {
     "data": {
      "application/vnd.jupyter.widget-view+json": {
       "model_id": "d8ef3616cc3e47bf9e7cd1caafb7aebd",
       "version_major": 2,
       "version_minor": 0
      },
      "text/plain": [
       "  0%|          | 0/36 [00:00<?, ?it/s]"
      ]
     },
     "metadata": {},
     "output_type": "display_data"
    },
    {
     "name": "stdout",
     "output_type": "stream",
     "text": [
      "Batch size 64, epoch 16: test accuracy is 0.3074324429035187\n",
      "Train accuracy is 0.3607942461967468\n"
     ]
    },
    {
     "data": {
      "application/vnd.jupyter.widget-view+json": {
       "model_id": "d4db1b73da0c49fcbbae03f2f285341f",
       "version_major": 2,
       "version_minor": 0
      },
      "text/plain": [
       "  0%|          | 0/36 [00:00<?, ?it/s]"
      ]
     },
     "metadata": {},
     "output_type": "display_data"
    },
    {
     "name": "stdout",
     "output_type": "stream",
     "text": [
      "Batch size 64, epoch 17: test accuracy is 0.3086993396282196\n",
      "Train accuracy is 0.3612167239189148\n"
     ]
    },
    {
     "data": {
      "application/vnd.jupyter.widget-view+json": {
       "model_id": "4fe9179a01d74b32ade1827a9ca35325",
       "version_major": 2,
       "version_minor": 0
      },
      "text/plain": [
       "  0%|          | 0/36 [00:00<?, ?it/s]"
      ]
     },
     "metadata": {},
     "output_type": "display_data"
    },
    {
     "name": "stdout",
     "output_type": "stream",
     "text": [
      "Batch size 64, epoch 18: test accuracy is 0.3095439374446869\n",
      "Train accuracy is 0.3662864565849304\n"
     ]
    },
    {
     "data": {
      "application/vnd.jupyter.widget-view+json": {
       "model_id": "95000171d77f4decaa9c0843e5a00983",
       "version_major": 2,
       "version_minor": 0
      },
      "text/plain": [
       "  0%|          | 0/36 [00:00<?, ?it/s]"
      ]
     },
     "metadata": {},
     "output_type": "display_data"
    },
    {
     "name": "stdout",
     "output_type": "stream",
     "text": [
      "Batch size 64, epoch 19: test accuracy is 0.31081080436706543\n",
      "Train accuracy is 0.3734685182571411\n"
     ]
    },
    {
     "data": {
      "application/vnd.jupyter.widget-view+json": {
       "model_id": "a3697b8c1ec44efd83fb2344c29c1723",
       "version_major": 2,
       "version_minor": 0
      },
      "text/plain": [
       "  0%|          | 0/36 [00:00<?, ?it/s]"
      ]
     },
     "metadata": {},
     "output_type": "display_data"
    },
    {
     "name": "stdout",
     "output_type": "stream",
     "text": [
      "Batch size 64, epoch 20: test accuracy is 0.31081080436706543\n",
      "Train accuracy is 0.37811577320098877\n"
     ]
    },
    {
     "data": {
      "application/vnd.jupyter.widget-view+json": {
       "model_id": "b9dc831152f44e79a37accd70b010031",
       "version_major": 2,
       "version_minor": 0
      },
      "text/plain": [
       "  0%|          | 0/36 [00:00<?, ?it/s]"
      ]
     },
     "metadata": {},
     "output_type": "display_data"
    },
    {
     "name": "stdout",
     "output_type": "stream",
     "text": [
      "Batch size 64, epoch 21: test accuracy is 0.31207770109176636\n",
      "Train accuracy is 0.38276299834251404\n"
     ]
    },
    {
     "data": {
      "application/vnd.jupyter.widget-view+json": {
       "model_id": "b7b7228a64c7412c8accd07d7972f1f8",
       "version_major": 2,
       "version_minor": 0
      },
      "text/plain": [
       "  0%|          | 0/36 [00:00<?, ?it/s]"
      ]
     },
     "metadata": {},
     "output_type": "display_data"
    },
    {
     "name": "stdout",
     "output_type": "stream",
     "text": [
      "Batch size 64, epoch 22: test accuracy is 0.3116554021835327\n",
      "Train accuracy is 0.391212522983551\n"
     ]
    },
    {
     "data": {
      "application/vnd.jupyter.widget-view+json": {
       "model_id": "bf92b7b7aa7346e2b87c7a6715e9c8d6",
       "version_major": 2,
       "version_minor": 0
      },
      "text/plain": [
       "  0%|          | 0/36 [00:00<?, ?it/s]"
      ]
     },
     "metadata": {},
     "output_type": "display_data"
    },
    {
     "name": "stdout",
     "output_type": "stream",
     "text": [
      "Batch size 64, epoch 23: test accuracy is 0.31292229890823364\n",
      "Train accuracy is 0.40050697326660156\n"
     ]
    },
    {
     "data": {
      "application/vnd.jupyter.widget-view+json": {
       "model_id": "f20adbc0837e4799a4d4a41fd704d8ae",
       "version_major": 2,
       "version_minor": 0
      },
      "text/plain": [
       "  0%|          | 0/36 [00:00<?, ?it/s]"
      ]
     },
     "metadata": {},
     "output_type": "display_data"
    },
    {
     "name": "stdout",
     "output_type": "stream",
     "text": [
      "Batch size 64, epoch 24: test accuracy is 0.3133445978164673\n",
      "Train accuracy is 0.40599915385246277\n"
     ]
    },
    {
     "data": {
      "application/vnd.jupyter.widget-view+json": {
       "model_id": "90ead33205f7497cb18804064779a736",
       "version_major": 2,
       "version_minor": 0
      },
      "text/plain": [
       "  0%|          | 0/36 [00:00<?, ?it/s]"
      ]
     },
     "metadata": {},
     "output_type": "display_data"
    },
    {
     "name": "stdout",
     "output_type": "stream",
     "text": [
      "Batch size 64, epoch 25: test accuracy is 0.3201013505458832\n",
      "Train accuracy is 0.4140262007713318\n"
     ]
    },
    {
     "data": {
      "application/vnd.jupyter.widget-view+json": {
       "model_id": "13e5801f34ec43e8b835267025e878f0",
       "version_major": 2,
       "version_minor": 0
      },
      "text/plain": [
       "  0%|          | 0/36 [00:00<?, ?it/s]"
      ]
     },
     "metadata": {},
     "output_type": "display_data"
    },
    {
     "name": "stdout",
     "output_type": "stream",
     "text": [
      "Batch size 64, epoch 26: test accuracy is 0.32179054617881775\n",
      "Train accuracy is 0.419095903635025\n"
     ]
    },
    {
     "data": {
      "application/vnd.jupyter.widget-view+json": {
       "model_id": "a76b4855a0124501a01f577f64ef82eb",
       "version_major": 2,
       "version_minor": 0
      },
      "text/plain": [
       "  0%|          | 0/36 [00:00<?, ?it/s]"
      ]
     },
     "metadata": {},
     "output_type": "display_data"
    },
    {
     "name": "stdout",
     "output_type": "stream",
     "text": [
      "Batch size 64, epoch 27: test accuracy is 0.3205236494541168\n",
      "Train accuracy is 0.42965778708457947\n"
     ]
    },
    {
     "data": {
      "application/vnd.jupyter.widget-view+json": {
       "model_id": "fe3106c7821e4533bc958fab1aa84053",
       "version_major": 2,
       "version_minor": 0
      },
      "text/plain": [
       "  0%|          | 0/36 [00:00<?, ?it/s]"
      ]
     },
     "metadata": {},
     "output_type": "display_data"
    },
    {
     "name": "stdout",
     "output_type": "stream",
     "text": [
      "Batch size 64, epoch 28: test accuracy is 0.3192567527294159\n",
      "Train accuracy is 0.43810731172561646\n"
     ]
    },
    {
     "data": {
      "application/vnd.jupyter.widget-view+json": {
       "model_id": "c603e51937d8484490a64c55174b016e",
       "version_major": 2,
       "version_minor": 0
      },
      "text/plain": [
       "  0%|          | 0/36 [00:00<?, ?it/s]"
      ]
     },
     "metadata": {},
     "output_type": "display_data"
    },
    {
     "name": "stdout",
     "output_type": "stream",
     "text": [
      "Batch size 64, epoch 29: test accuracy is 0.318412184715271\n",
      "Train accuracy is 0.4457118809223175\n"
     ]
    },
    {
     "data": {
      "application/vnd.jupyter.widget-view+json": {
       "model_id": "56fbfedbcb034b72a07b460903d25964",
       "version_major": 2,
       "version_minor": 0
      },
      "text/plain": [
       "  0%|          | 0/36 [00:00<?, ?it/s]"
      ]
     },
     "metadata": {},
     "output_type": "display_data"
    },
    {
     "name": "stdout",
     "output_type": "stream",
     "text": [
      "Batch size 64, epoch 30: test accuracy is 0.32179054617881775\n",
      "Train accuracy is 0.4524714946746826\n"
     ]
    },
    {
     "data": {
      "application/vnd.jupyter.widget-view+json": {
       "model_id": "e64776c9a2e14713845f4cf72cd26228",
       "version_major": 2,
       "version_minor": 0
      },
      "text/plain": [
       "  0%|          | 0/36 [00:00<?, ?it/s]"
      ]
     },
     "metadata": {},
     "output_type": "display_data"
    },
    {
     "name": "stdout",
     "output_type": "stream",
     "text": [
      "Batch size 64, epoch 31: test accuracy is 0.32179054617881775\n",
      "Train accuracy is 0.45754119753837585\n"
     ]
    },
    {
     "data": {
      "application/vnd.jupyter.widget-view+json": {
       "model_id": "2ad1ebde06ad4dd9a9e67d5ecd2eee39",
       "version_major": 2,
       "version_minor": 0
      },
      "text/plain": [
       "  0%|          | 0/36 [00:00<?, ?it/s]"
      ]
     },
     "metadata": {},
     "output_type": "display_data"
    },
    {
     "name": "stdout",
     "output_type": "stream",
     "text": [
      "Batch size 64, epoch 32: test accuracy is 0.32559123635292053\n",
      "Train accuracy is 0.46176594495773315\n"
     ]
    },
    {
     "data": {
      "application/vnd.jupyter.widget-view+json": {
       "model_id": "502b0001fc444f9ba60016273e0b221b",
       "version_major": 2,
       "version_minor": 0
      },
      "text/plain": [
       "  0%|          | 0/36 [00:00<?, ?it/s]"
      ]
     },
     "metadata": {},
     "output_type": "display_data"
    },
    {
     "name": "stdout",
     "output_type": "stream",
     "text": [
      "Batch size 64, epoch 33: test accuracy is 0.32094594836235046\n",
      "Train accuracy is 0.4655682444572449\n"
     ]
    },
    {
     "data": {
      "application/vnd.jupyter.widget-view+json": {
       "model_id": "4685567efb454cafa7b1df8508c24b04",
       "version_major": 2,
       "version_minor": 0
      },
      "text/plain": [
       "  0%|          | 0/36 [00:00<?, ?it/s]"
      ]
     },
     "metadata": {},
     "output_type": "display_data"
    },
    {
     "name": "stdout",
     "output_type": "stream",
     "text": [
      "Batch size 64, epoch 34: test accuracy is 0.3243243396282196\n",
      "Train accuracy is 0.46768060326576233\n"
     ]
    },
    {
     "data": {
      "application/vnd.jupyter.widget-view+json": {
       "model_id": "d23f0da6381e4eab9213a6ef6c93e692",
       "version_major": 2,
       "version_minor": 0
      },
      "text/plain": [
       "  0%|          | 0/36 [00:00<?, ?it/s]"
      ]
     },
     "metadata": {},
     "output_type": "display_data"
    },
    {
     "name": "stdout",
     "output_type": "stream",
     "text": [
      "Batch size 64, epoch 35: test accuracy is 0.328125\n",
      "Train accuracy is 0.47232785820961\n"
     ]
    },
    {
     "data": {
      "application/vnd.jupyter.widget-view+json": {
       "model_id": "9518494cbbef46ac81bad326d4c1b3b2",
       "version_major": 2,
       "version_minor": 0
      },
      "text/plain": [
       "  0%|          | 0/36 [00:00<?, ?it/s]"
      ]
     },
     "metadata": {},
     "output_type": "display_data"
    },
    {
     "name": "stdout",
     "output_type": "stream",
     "text": [
      "Batch size 64, epoch 36: test accuracy is 0.32390204071998596\n",
      "Train accuracy is 0.4765526056289673\n"
     ]
    },
    {
     "data": {
      "application/vnd.jupyter.widget-view+json": {
       "model_id": "4d51f9ecb2bb4660ac7265e0d7a83e00",
       "version_major": 2,
       "version_minor": 0
      },
      "text/plain": [
       "  0%|          | 0/36 [00:00<?, ?it/s]"
      ]
     },
     "metadata": {},
     "output_type": "display_data"
    },
    {
     "name": "stdout",
     "output_type": "stream",
     "text": [
      "Batch size 64, epoch 37: test accuracy is 0.3319256901741028\n",
      "Train accuracy is 0.4773975610733032\n"
     ]
    },
    {
     "data": {
      "application/vnd.jupyter.widget-view+json": {
       "model_id": "a596f853d67244c98c1a3de6d76f2075",
       "version_major": 2,
       "version_minor": 0
      },
      "text/plain": [
       "  0%|          | 0/36 [00:00<?, ?it/s]"
      ]
     },
     "metadata": {},
     "output_type": "display_data"
    },
    {
     "name": "stdout",
     "output_type": "stream",
     "text": [
      "Batch size 64, epoch 38: test accuracy is 0.32981419563293457\n",
      "Train accuracy is 0.48373469710350037\n"
     ]
    },
    {
     "data": {
      "application/vnd.jupyter.widget-view+json": {
       "model_id": "cbd1faad161048cf823bb05681f9cc1a",
       "version_major": 2,
       "version_minor": 0
      },
      "text/plain": [
       "  0%|          | 0/36 [00:00<?, ?it/s]"
      ]
     },
     "metadata": {},
     "output_type": "display_data"
    },
    {
     "name": "stdout",
     "output_type": "stream",
     "text": [
      "Batch size 64, epoch 39: test accuracy is 0.33277028799057007\n",
      "Train accuracy is 0.4850021302700043\n"
     ]
    },
    {
     "data": {
      "application/vnd.jupyter.widget-view+json": {
       "model_id": "b693729394fe4ef99823739321b70dfa",
       "version_major": 2,
       "version_minor": 0
      },
      "text/plain": [
       "  0%|          | 0/36 [00:00<?, ?it/s]"
      ]
     },
     "metadata": {},
     "output_type": "display_data"
    },
    {
     "name": "stdout",
     "output_type": "stream",
     "text": [
      "Batch size 64, epoch 40: test accuracy is 0.3319256901741028\n",
      "Train accuracy is 0.49345162510871887\n"
     ]
    },
    {
     "data": {
      "application/vnd.jupyter.widget-view+json": {
       "model_id": "2544bd3176ff4349834aa2f448c13568",
       "version_major": 2,
       "version_minor": 0
      },
      "text/plain": [
       "  0%|          | 0/36 [00:00<?, ?it/s]"
      ]
     },
     "metadata": {},
     "output_type": "display_data"
    },
    {
     "name": "stdout",
     "output_type": "stream",
     "text": [
      "Batch size 64, epoch 41: test accuracy is 0.33445945382118225\n",
      "Train accuracy is 0.48838192224502563\n"
     ]
    },
    {
     "data": {
      "application/vnd.jupyter.widget-view+json": {
       "model_id": "6dbc4ef324fc40ac8eeca654ad2c3c16",
       "version_major": 2,
       "version_minor": 0
      },
      "text/plain": [
       "  0%|          | 0/36 [00:00<?, ?it/s]"
      ]
     },
     "metadata": {},
     "output_type": "display_data"
    },
    {
     "name": "stdout",
     "output_type": "stream",
     "text": [
      "Batch size 64, epoch 42: test accuracy is 0.33361488580703735\n",
      "Train accuracy is 0.4968314468860626\n"
     ]
    },
    {
     "data": {
      "application/vnd.jupyter.widget-view+json": {
       "model_id": "33c6a5cb8bde41639f7e934ffa3942de",
       "version_major": 2,
       "version_minor": 0
      },
      "text/plain": [
       "  0%|          | 0/36 [00:00<?, ?it/s]"
      ]
     },
     "metadata": {},
     "output_type": "display_data"
    },
    {
     "name": "stdout",
     "output_type": "stream",
     "text": [
      "Batch size 64, epoch 43: test accuracy is 0.33530405163764954\n",
      "Train accuracy is 0.49345162510871887\n"
     ]
    },
    {
     "data": {
      "application/vnd.jupyter.widget-view+json": {
       "model_id": "76aaae3603754e72ae52f12036beb957",
       "version_major": 2,
       "version_minor": 0
      },
      "text/plain": [
       "  0%|          | 0/36 [00:00<?, ?it/s]"
      ]
     },
     "metadata": {},
     "output_type": "display_data"
    },
    {
     "name": "stdout",
     "output_type": "stream",
     "text": [
      "Batch size 64, epoch 44: test accuracy is 0.3302364945411682\n",
      "Train accuracy is 0.500633716583252\n"
     ]
    },
    {
     "data": {
      "application/vnd.jupyter.widget-view+json": {
       "model_id": "685ef89579e747b889ed1109ee3b19de",
       "version_major": 2,
       "version_minor": 0
      },
      "text/plain": [
       "  0%|          | 0/36 [00:00<?, ?it/s]"
      ]
     },
     "metadata": {},
     "output_type": "display_data"
    },
    {
     "name": "stdout",
     "output_type": "stream",
     "text": [
      "Batch size 64, epoch 45: test accuracy is 0.3369932472705841\n",
      "Train accuracy is 0.4955640137195587\n"
     ]
    },
    {
     "data": {
      "application/vnd.jupyter.widget-view+json": {
       "model_id": "1690ecc1062b4a788ea411207892c90c",
       "version_major": 2,
       "version_minor": 0
      },
      "text/plain": [
       "  0%|          | 0/36 [00:00<?, ?it/s]"
      ]
     },
     "metadata": {},
     "output_type": "display_data"
    },
    {
     "name": "stdout",
     "output_type": "stream",
     "text": [
      "Batch size 64, epoch 46: test accuracy is 0.3357263505458832\n",
      "Train accuracy is 0.5027461051940918\n"
     ]
    },
    {
     "data": {
      "application/vnd.jupyter.widget-view+json": {
       "model_id": "4689ab552c3246a797db77cc2f6d4513",
       "version_major": 2,
       "version_minor": 0
      },
      "text/plain": [
       "  0%|          | 0/36 [00:00<?, ?it/s]"
      ]
     },
     "metadata": {},
     "output_type": "display_data"
    },
    {
     "name": "stdout",
     "output_type": "stream",
     "text": [
      "Batch size 64, epoch 47: test accuracy is 0.3319256901741028\n",
      "Train accuracy is 0.5031685829162598\n"
     ]
    },
    {
     "data": {
      "application/vnd.jupyter.widget-view+json": {
       "model_id": "5cb20f49eddf46c49de9b23a09885851",
       "version_major": 2,
       "version_minor": 0
      },
      "text/plain": [
       "  0%|          | 0/36 [00:00<?, ?it/s]"
      ]
     },
     "metadata": {},
     "output_type": "display_data"
    },
    {
     "name": "stdout",
     "output_type": "stream",
     "text": [
      "Batch size 64, epoch 48: test accuracy is 0.33150339126586914\n",
      "Train accuracy is 0.5082382559776306\n"
     ]
    },
    {
     "data": {
      "application/vnd.jupyter.widget-view+json": {
       "model_id": "a31e6c63fba5488da1b0fd24d70931c8",
       "version_major": 2,
       "version_minor": 0
      },
      "text/plain": [
       "  0%|          | 0/36 [00:00<?, ?it/s]"
      ]
     },
     "metadata": {},
     "output_type": "display_data"
    },
    {
     "name": "stdout",
     "output_type": "stream",
     "text": [
      "Batch size 64, epoch 49: test accuracy is 0.334037184715271\n",
      "Train accuracy is 0.5103506445884705\n"
     ]
    },
    {
     "data": {
      "application/vnd.jupyter.widget-view+json": {
       "model_id": "04a7951fb1ce4d4bae6caea34580e41c",
       "version_major": 2,
       "version_minor": 0
      },
      "text/plain": [
       "  0%|          | 0/36 [00:00<?, ?it/s]"
      ]
     },
     "metadata": {},
     "output_type": "display_data"
    },
    {
     "name": "stdout",
     "output_type": "stream",
     "text": [
      "Batch size 64, epoch 50: test accuracy is 0.33361488580703735\n",
      "Train accuracy is 0.5188001990318298\n"
     ]
    },
    {
     "data": {
      "application/vnd.jupyter.widget-view+json": {
       "model_id": "26fd9615f3ef4708bf5d70fdf4779451",
       "version_major": 2,
       "version_minor": 0
      },
      "text/plain": [
       "  0%|          | 0/36 [00:00<?, ?it/s]"
      ]
     },
     "metadata": {},
     "output_type": "display_data"
    },
    {
     "name": "stdout",
     "output_type": "stream",
     "text": [
      "Batch size 64, epoch 51: test accuracy is 0.33361488580703735\n",
      "Train accuracy is 0.5145754218101501\n"
     ]
    },
    {
     "data": {
      "application/vnd.jupyter.widget-view+json": {
       "model_id": "450afe2e81534dc28dca1e684ae28e31",
       "version_major": 2,
       "version_minor": 0
      },
      "text/plain": [
       "  0%|          | 0/36 [00:00<?, ?it/s]"
      ]
     },
     "metadata": {},
     "output_type": "display_data"
    },
    {
     "name": "stdout",
     "output_type": "stream",
     "text": [
      "Batch size 64, epoch 52: test accuracy is 0.3331925868988037\n",
      "Train accuracy is 0.517110288143158\n"
     ]
    },
    {
     "data": {
      "application/vnd.jupyter.widget-view+json": {
       "model_id": "bb852b63d7bd45a2ad628adb3eba1ca9",
       "version_major": 2,
       "version_minor": 0
      },
      "text/plain": [
       "  0%|          | 0/36 [00:00<?, ?it/s]"
      ]
     },
     "metadata": {},
     "output_type": "display_data"
    },
    {
     "name": "stdout",
     "output_type": "stream",
     "text": [
      "Batch size 64, epoch 53: test accuracy is 0.3348817527294159\n",
      "Train accuracy is 0.515842854976654\n"
     ]
    },
    {
     "data": {
      "application/vnd.jupyter.widget-view+json": {
       "model_id": "9a7d888f78834b82b90490c15299c187",
       "version_major": 2,
       "version_minor": 0
      },
      "text/plain": [
       "  0%|          | 0/36 [00:00<?, ?it/s]"
      ]
     },
     "metadata": {},
     "output_type": "display_data"
    },
    {
     "name": "stdout",
     "output_type": "stream",
     "text": [
      "Batch size 64, epoch 54: test accuracy is 0.3357263505458832\n",
      "Train accuracy is 0.5179552435874939\n"
     ]
    },
    {
     "data": {
      "application/vnd.jupyter.widget-view+json": {
       "model_id": "4161ecd0629b402381d7345b5e279f51",
       "version_major": 2,
       "version_minor": 0
      },
      "text/plain": [
       "  0%|          | 0/36 [00:00<?, ?it/s]"
      ]
     },
     "metadata": {},
     "output_type": "display_data"
    },
    {
     "name": "stdout",
     "output_type": "stream",
     "text": [
      "Batch size 64, epoch 55: test accuracy is 0.3361486494541168\n",
      "Train accuracy is 0.5175327658653259\n"
     ]
    },
    {
     "data": {
      "application/vnd.jupyter.widget-view+json": {
       "model_id": "3680974c6b4949cf909419b95f675e81",
       "version_major": 2,
       "version_minor": 0
      },
      "text/plain": [
       "  0%|          | 0/36 [00:00<?, ?it/s]"
      ]
     },
     "metadata": {},
     "output_type": "display_data"
    },
    {
     "name": "stdout",
     "output_type": "stream",
     "text": [
      "Batch size 64, epoch 56: test accuracy is 0.3348817527294159\n",
      "Train accuracy is 0.5192226767539978\n"
     ]
    },
    {
     "data": {
      "application/vnd.jupyter.widget-view+json": {
       "model_id": "121ff9ec3b1d43189ff84fe6c19a4a2e",
       "version_major": 2,
       "version_minor": 0
      },
      "text/plain": [
       "  0%|          | 0/36 [00:00<?, ?it/s]"
      ]
     },
     "metadata": {},
     "output_type": "display_data"
    },
    {
     "name": "stdout",
     "output_type": "stream",
     "text": [
      "Batch size 64, epoch 57: test accuracy is 0.33657094836235046\n",
      "Train accuracy is 0.5196451544761658\n"
     ]
    },
    {
     "data": {
      "application/vnd.jupyter.widget-view+json": {
       "model_id": "bf1ed463d80747468cdd423ae14704ea",
       "version_major": 2,
       "version_minor": 0
      },
      "text/plain": [
       "  0%|          | 0/36 [00:00<?, ?it/s]"
      ]
     },
     "metadata": {},
     "output_type": "display_data"
    },
    {
     "name": "stdout",
     "output_type": "stream",
     "text": [
      "Batch size 64, epoch 58: test accuracy is 0.3369932472705841\n",
      "Train accuracy is 0.5272496938705444\n"
     ]
    },
    {
     "data": {
      "application/vnd.jupyter.widget-view+json": {
       "model_id": "3b284e443acd485ca98da556653342f3",
       "version_major": 2,
       "version_minor": 0
      },
      "text/plain": [
       "  0%|          | 0/36 [00:00<?, ?it/s]"
      ]
     },
     "metadata": {},
     "output_type": "display_data"
    },
    {
     "name": "stdout",
     "output_type": "stream",
     "text": [
      "Batch size 64, epoch 59: test accuracy is 0.33826014399528503\n",
      "Train accuracy is 0.532741904258728\n"
     ]
    },
    {
     "data": {
      "application/vnd.jupyter.widget-view+json": {
       "model_id": "6b651aa0bf8c44349dedd6daa596cda4",
       "version_major": 2,
       "version_minor": 0
      },
      "text/plain": [
       "  0%|          | 0/36 [00:00<?, ?it/s]"
      ]
     },
     "metadata": {},
     "output_type": "display_data"
    },
    {
     "name": "stdout",
     "output_type": "stream",
     "text": [
      "Batch size 64, epoch 60: test accuracy is 0.3369932472705841\n",
      "Train accuracy is 0.5420363545417786\n"
     ]
    },
    {
     "data": {
      "application/vnd.jupyter.widget-view+json": {
       "model_id": "d10381f4b5bc49dca806c7de4e47c41a",
       "version_major": 2,
       "version_minor": 0
      },
      "text/plain": [
       "  0%|          | 0/36 [00:00<?, ?it/s]"
      ]
     },
     "metadata": {},
     "output_type": "display_data"
    },
    {
     "name": "stdout",
     "output_type": "stream",
     "text": [
      "Batch size 64, epoch 61: test accuracy is 0.32770270109176636\n",
      "Train accuracy is 0.5576679706573486\n"
     ]
    },
    {
     "data": {
      "application/vnd.jupyter.widget-view+json": {
       "model_id": "d20cbe443ac24430856b16d1bce05f9d",
       "version_major": 2,
       "version_minor": 0
      },
      "text/plain": [
       "  0%|          | 0/36 [00:00<?, ?it/s]"
      ]
     },
     "metadata": {},
     "output_type": "display_data"
    },
    {
     "name": "stdout",
     "output_type": "stream",
     "text": [
      "Batch size 64, epoch 62: test accuracy is 0.32263514399528503\n",
      "Train accuracy is 0.5614702105522156\n"
     ]
    },
    {
     "data": {
      "application/vnd.jupyter.widget-view+json": {
       "model_id": "b40a138ca93345cf918f271f36fb7dde",
       "version_major": 2,
       "version_minor": 0
      },
      "text/plain": [
       "  0%|          | 0/36 [00:00<?, ?it/s]"
      ]
     },
     "metadata": {},
     "output_type": "display_data"
    },
    {
     "name": "stdout",
     "output_type": "stream",
     "text": [
      "Batch size 64, epoch 63: test accuracy is 0.3192567527294159\n",
      "Train accuracy is 0.5602027773857117\n"
     ]
    },
    {
     "data": {
      "application/vnd.jupyter.widget-view+json": {
       "model_id": "2745dacc27fe4b2181b0958a09aefee7",
       "version_major": 2,
       "version_minor": 0
      },
      "text/plain": [
       "  0%|          | 0/36 [00:00<?, ?it/s]"
      ]
     },
     "metadata": {},
     "output_type": "display_data"
    },
    {
     "name": "stdout",
     "output_type": "stream",
     "text": [
      "Batch size 64, epoch 64: test accuracy is 0.3192567527294159\n",
      "Train accuracy is 0.5538656711578369\n"
     ]
    },
    {
     "data": {
      "application/vnd.jupyter.widget-view+json": {
       "model_id": "3ed1bebce8814862a52afe0d2eefd695",
       "version_major": 2,
       "version_minor": 0
      },
      "text/plain": [
       "  0%|          | 0/36 [00:00<?, ?it/s]"
      ]
     },
     "metadata": {},
     "output_type": "display_data"
    },
    {
     "name": "stdout",
     "output_type": "stream",
     "text": [
      "Batch size 64, epoch 65: test accuracy is 0.31967905163764954\n",
      "Train accuracy is 0.5538656711578369\n"
     ]
    },
    {
     "data": {
      "application/vnd.jupyter.widget-view+json": {
       "model_id": "f34f399ba48d47cf97d418f10413ba7f",
       "version_major": 2,
       "version_minor": 0
      },
      "text/plain": [
       "  0%|          | 0/36 [00:00<?, ?it/s]"
      ]
     },
     "metadata": {},
     "output_type": "display_data"
    },
    {
     "name": "stdout",
     "output_type": "stream",
     "text": [
      "Batch size 64, epoch 66: test accuracy is 0.318412184715271\n",
      "Train accuracy is 0.553443193435669\n"
     ]
    },
    {
     "data": {
      "application/vnd.jupyter.widget-view+json": {
       "model_id": "a9bbea6294b4410da049b729a6e570ca",
       "version_major": 2,
       "version_minor": 0
      },
      "text/plain": [
       "  0%|          | 0/36 [00:00<?, ?it/s]"
      ]
     },
     "metadata": {},
     "output_type": "display_data"
    },
    {
     "name": "stdout",
     "output_type": "stream",
     "text": [
      "Batch size 64, epoch 67: test accuracy is 0.3163006901741028\n",
      "Train accuracy is 0.553020715713501\n"
     ]
    },
    {
     "data": {
      "application/vnd.jupyter.widget-view+json": {
       "model_id": "f71a79bfc8a44c11b7cd1708a1a9e490",
       "version_major": 2,
       "version_minor": 0
      },
      "text/plain": [
       "  0%|          | 0/36 [00:00<?, ?it/s]"
      ]
     },
     "metadata": {},
     "output_type": "display_data"
    },
    {
     "name": "stdout",
     "output_type": "stream",
     "text": [
      "Batch size 64, epoch 68: test accuracy is 0.31418919563293457\n",
      "Train accuracy is 0.552175760269165\n"
     ]
    },
    {
     "data": {
      "application/vnd.jupyter.widget-view+json": {
       "model_id": "c06d59e8832b4cada975d78b077eaedd",
       "version_major": 2,
       "version_minor": 0
      },
      "text/plain": [
       "  0%|          | 0/36 [00:00<?, ?it/s]"
      ]
     },
     "metadata": {},
     "output_type": "display_data"
    },
    {
     "name": "stdout",
     "output_type": "stream",
     "text": [
      "Batch size 64, epoch 69: test accuracy is 0.3116554021835327\n",
      "Train accuracy is 0.5500633716583252\n"
     ]
    },
    {
     "data": {
      "application/vnd.jupyter.widget-view+json": {
       "model_id": "57c887e8bb78412091309efa80cbf96f",
       "version_major": 2,
       "version_minor": 0
      },
      "text/plain": [
       "  0%|          | 0/36 [00:00<?, ?it/s]"
      ]
     },
     "metadata": {},
     "output_type": "display_data"
    },
    {
     "name": "stdout",
     "output_type": "stream",
     "text": [
      "Batch size 64, epoch 70: test accuracy is 0.31207770109176636\n",
      "Train accuracy is 0.5572454929351807\n"
     ]
    },
    {
     "data": {
      "application/vnd.jupyter.widget-view+json": {
       "model_id": "31071f607f964397a831ed189f209593",
       "version_major": 2,
       "version_minor": 0
      },
      "text/plain": [
       "  0%|          | 0/36 [00:00<?, ?it/s]"
      ]
     },
     "metadata": {},
     "output_type": "display_data"
    },
    {
     "name": "stdout",
     "output_type": "stream",
     "text": [
      "Batch size 64, epoch 71: test accuracy is 0.3125\n",
      "Train accuracy is 0.5585128664970398\n"
     ]
    },
    {
     "data": {
      "application/vnd.jupyter.widget-view+json": {
       "model_id": "07ca6951c3854a45a7cde9821647cef9",
       "version_major": 2,
       "version_minor": 0
      },
      "text/plain": [
       "  0%|          | 0/36 [00:00<?, ?it/s]"
      ]
     },
     "metadata": {},
     "output_type": "display_data"
    },
    {
     "name": "stdout",
     "output_type": "stream",
     "text": [
      "Batch size 64, epoch 72: test accuracy is 0.3154560923576355\n",
      "Train accuracy is 0.5644275546073914\n"
     ]
    },
    {
     "data": {
      "application/vnd.jupyter.widget-view+json": {
       "model_id": "06c207180cab402abbc4b3676e4bfd94",
       "version_major": 2,
       "version_minor": 0
      },
      "text/plain": [
       "  0%|          | 0/36 [00:00<?, ?it/s]"
      ]
     },
     "metadata": {},
     "output_type": "display_data"
    },
    {
     "name": "stdout",
     "output_type": "stream",
     "text": [
      "Batch size 64, epoch 73: test accuracy is 0.31967905163764954\n",
      "Train accuracy is 0.5771018266677856\n"
     ]
    },
    {
     "data": {
      "application/vnd.jupyter.widget-view+json": {
       "model_id": "d127c9afe6ed44b890c46f379f66a093",
       "version_major": 2,
       "version_minor": 0
      },
      "text/plain": [
       "  0%|          | 0/36 [00:00<?, ?it/s]"
      ]
     },
     "metadata": {},
     "output_type": "display_data"
    },
    {
     "name": "stdout",
     "output_type": "stream",
     "text": [
      "Batch size 64, epoch 74: test accuracy is 0.31883445382118225\n",
      "Train accuracy is 0.5762568712234497\n"
     ]
    },
    {
     "data": {
      "application/vnd.jupyter.widget-view+json": {
       "model_id": "46b06fc459644e2893f5131369b36ae2",
       "version_major": 2,
       "version_minor": 0
      },
      "text/plain": [
       "  0%|          | 0/36 [00:00<?, ?it/s]"
      ]
     },
     "metadata": {},
     "output_type": "display_data"
    },
    {
     "name": "stdout",
     "output_type": "stream",
     "text": [
      "Batch size 64, epoch 75: test accuracy is 0.3116554021835327\n",
      "Train accuracy is 0.5787917375564575\n"
     ]
    },
    {
     "data": {
      "application/vnd.jupyter.widget-view+json": {
       "model_id": "8550cf360ea14fb5bbd48813e7a25931",
       "version_major": 2,
       "version_minor": 0
      },
      "text/plain": [
       "  0%|          | 0/36 [00:00<?, ?it/s]"
      ]
     },
     "metadata": {},
     "output_type": "display_data"
    },
    {
     "name": "stdout",
     "output_type": "stream",
     "text": [
      "Batch size 64, epoch 76: test accuracy is 0.3048986494541168\n",
      "Train accuracy is 0.5821715593338013\n"
     ]
    },
    {
     "data": {
      "application/vnd.jupyter.widget-view+json": {
       "model_id": "daf388899fa64ca3bea2b562b5c5b102",
       "version_major": 2,
       "version_minor": 0
      },
      "text/plain": [
       "  0%|          | 0/36 [00:00<?, ?it/s]"
      ]
     },
     "metadata": {},
     "output_type": "display_data"
    },
    {
     "name": "stdout",
     "output_type": "stream",
     "text": [
      "Batch size 64, epoch 77: test accuracy is 0.2981418967247009\n",
      "Train accuracy is 0.5834389328956604\n"
     ]
    },
    {
     "data": {
      "application/vnd.jupyter.widget-view+json": {
       "model_id": "36542a175f0d4bbd8472e23966c35c5b",
       "version_major": 2,
       "version_minor": 0
      },
      "text/plain": [
       "  0%|          | 0/36 [00:00<?, ?it/s]"
      ]
     },
     "metadata": {},
     "output_type": "display_data"
    },
    {
     "name": "stdout",
     "output_type": "stream",
     "text": [
      "Batch size 64, epoch 78: test accuracy is 0.2998310923576355\n",
      "Train accuracy is 0.5923109650611877\n"
     ]
    },
    {
     "data": {
      "application/vnd.jupyter.widget-view+json": {
       "model_id": "7717e7e4f14f4e1cb99a37bc220d33fd",
       "version_major": 2,
       "version_minor": 0
      },
      "text/plain": [
       "  0%|          | 0/36 [00:00<?, ?it/s]"
      ]
     },
     "metadata": {},
     "output_type": "display_data"
    },
    {
     "name": "stdout",
     "output_type": "stream",
     "text": [
      "Batch size 64, epoch 79: test accuracy is 0.29856419563293457\n",
      "Train accuracy is 0.5952683091163635\n"
     ]
    },
    {
     "data": {
      "application/vnd.jupyter.widget-view+json": {
       "model_id": "4c3a08c4c91247d0bcebe28e79cc59c8",
       "version_major": 2,
       "version_minor": 0
      },
      "text/plain": [
       "  0%|          | 0/36 [00:00<?, ?it/s]"
      ]
     },
     "metadata": {},
     "output_type": "display_data"
    },
    {
     "name": "stdout",
     "output_type": "stream",
     "text": [
      "Batch size 64, epoch 80: test accuracy is 0.296875\n",
      "Train accuracy is 0.6003379821777344\n"
     ]
    },
    {
     "data": {
      "application/vnd.jupyter.widget-view+json": {
       "model_id": "c0bd4cefad1a48cc83833428cf7889c1",
       "version_major": 2,
       "version_minor": 0
      },
      "text/plain": [
       "  0%|          | 0/36 [00:00<?, ?it/s]"
      ]
     },
     "metadata": {},
     "output_type": "display_data"
    },
    {
     "name": "stdout",
     "output_type": "stream",
     "text": [
      "Batch size 64, epoch 81: test accuracy is 0.3095439374446869\n",
      "Train accuracy is 0.604985237121582\n"
     ]
    },
    {
     "data": {
      "application/vnd.jupyter.widget-view+json": {
       "model_id": "23d289252df24837a7d25531d3fdc12b",
       "version_major": 2,
       "version_minor": 0
      },
      "text/plain": [
       "  0%|          | 0/36 [00:00<?, ?it/s]"
      ]
     },
     "metadata": {},
     "output_type": "display_data"
    },
    {
     "name": "stdout",
     "output_type": "stream",
     "text": [
      "Batch size 64, epoch 82: test accuracy is 0.3074324429035187\n",
      "Train accuracy is 0.6062526702880859\n"
     ]
    },
    {
     "data": {
      "application/vnd.jupyter.widget-view+json": {
       "model_id": "02487dd993ad41e689450a1a74dced59",
       "version_major": 2,
       "version_minor": 0
      },
      "text/plain": [
       "  0%|          | 0/36 [00:00<?, ?it/s]"
      ]
     },
     "metadata": {},
     "output_type": "display_data"
    },
    {
     "name": "stdout",
     "output_type": "stream",
     "text": [
      "Batch size 64, epoch 83: test accuracy is 0.29729729890823364\n",
      "Train accuracy is 0.5994930267333984\n"
     ]
    },
    {
     "data": {
      "application/vnd.jupyter.widget-view+json": {
       "model_id": "3237e6debd8443a5bc7bb7d1fa9eebdb",
       "version_major": 2,
       "version_minor": 0
      },
      "text/plain": [
       "  0%|          | 0/36 [00:00<?, ?it/s]"
      ]
     },
     "metadata": {},
     "output_type": "display_data"
    },
    {
     "name": "stdout",
     "output_type": "stream",
     "text": [
      "Batch size 64, epoch 84: test accuracy is 0.2871621549129486\n",
      "Train accuracy is 0.5986480712890625\n"
     ]
    },
    {
     "data": {
      "application/vnd.jupyter.widget-view+json": {
       "model_id": "b1dbe8faf58d4e7fb37fa1026626fb61",
       "version_major": 2,
       "version_minor": 0
      },
      "text/plain": [
       "  0%|          | 0/36 [00:00<?, ?it/s]"
      ]
     },
     "metadata": {},
     "output_type": "display_data"
    },
    {
     "name": "stdout",
     "output_type": "stream",
     "text": [
      "Batch size 64, epoch 85: test accuracy is 0.28082770109176636\n",
      "Train accuracy is 0.5931559205055237\n"
     ]
    },
    {
     "data": {
      "application/vnd.jupyter.widget-view+json": {
       "model_id": "7a6af3e6671849f78b7076f913bb00c4",
       "version_major": 2,
       "version_minor": 0
      },
      "text/plain": [
       "  0%|          | 0/36 [00:00<?, ?it/s]"
      ]
     },
     "metadata": {},
     "output_type": "display_data"
    },
    {
     "name": "stdout",
     "output_type": "stream",
     "text": [
      "Batch size 64, epoch 86: test accuracy is 0.2753378450870514\n",
      "Train accuracy is 0.5834389328956604\n"
     ]
    },
    {
     "data": {
      "application/vnd.jupyter.widget-view+json": {
       "model_id": "db70fd0ff1974b969db9039ea9554b9f",
       "version_major": 2,
       "version_minor": 0
      },
      "text/plain": [
       "  0%|          | 0/36 [00:00<?, ?it/s]"
      ]
     },
     "metadata": {},
     "output_type": "display_data"
    },
    {
     "name": "stdout",
     "output_type": "stream",
     "text": [
      "Batch size 64, epoch 87: test accuracy is 0.2723817527294159\n",
      "Train accuracy is 0.5847063660621643\n"
     ]
    },
    {
     "data": {
      "application/vnd.jupyter.widget-view+json": {
       "model_id": "278267d88f974acbb428abfb79ba079c",
       "version_major": 2,
       "version_minor": 0
      },
      "text/plain": [
       "  0%|          | 0/36 [00:00<?, ?it/s]"
      ]
     },
     "metadata": {},
     "output_type": "display_data"
    },
    {
     "name": "stdout",
     "output_type": "stream",
     "text": [
      "Batch size 64, epoch 88: test accuracy is 0.2744932472705841\n",
      "Train accuracy is 0.5978031158447266\n"
     ]
    },
    {
     "data": {
      "application/vnd.jupyter.widget-view+json": {
       "model_id": "ddafece4374b4abbae46f87964503c48",
       "version_major": 2,
       "version_minor": 0
      },
      "text/plain": [
       "  0%|          | 0/36 [00:00<?, ?it/s]"
      ]
     },
     "metadata": {},
     "output_type": "display_data"
    },
    {
     "name": "stdout",
     "output_type": "stream",
     "text": [
      "Batch size 64, epoch 89: test accuracy is 0.2863175868988037\n",
      "Train accuracy is 0.6231516599655151\n"
     ]
    },
    {
     "data": {
      "application/vnd.jupyter.widget-view+json": {
       "model_id": "20dfe464b74b478295924b2ed196dbfa",
       "version_major": 2,
       "version_minor": 0
      },
      "text/plain": [
       "  0%|          | 0/36 [00:00<?, ?it/s]"
      ]
     },
     "metadata": {},
     "output_type": "display_data"
    },
    {
     "name": "stdout",
     "output_type": "stream",
     "text": [
      "Batch size 64, epoch 90: test accuracy is 0.2799831032752991\n",
      "Train accuracy is 0.6079425811767578\n"
     ]
    },
    {
     "data": {
      "application/vnd.jupyter.widget-view+json": {
       "model_id": "99b5e3b397a74fad98f81fd74e5150f0",
       "version_major": 2,
       "version_minor": 0
      },
      "text/plain": [
       "  0%|          | 0/36 [00:00<?, ?it/s]"
      ]
     },
     "metadata": {},
     "output_type": "display_data"
    },
    {
     "name": "stdout",
     "output_type": "stream",
     "text": [
      "Batch size 64, epoch 91: test accuracy is 0.2766047418117523\n",
      "Train accuracy is 0.589353621006012\n"
     ]
    },
    {
     "data": {
      "application/vnd.jupyter.widget-view+json": {
       "model_id": "9137b012737e443b9a9b6291db7bf8d5",
       "version_major": 2,
       "version_minor": 0
      },
      "text/plain": [
       "  0%|          | 0/36 [00:00<?, ?it/s]"
      ]
     },
     "metadata": {},
     "output_type": "display_data"
    },
    {
     "name": "stdout",
     "output_type": "stream",
     "text": [
      "Batch size 64, epoch 92: test accuracy is 0.27280405163764954\n",
      "Train accuracy is 0.5876637101173401\n"
     ]
    },
    {
     "data": {
      "application/vnd.jupyter.widget-view+json": {
       "model_id": "19720ae720054daca8807526366a27d5",
       "version_major": 2,
       "version_minor": 0
      },
      "text/plain": [
       "  0%|          | 0/36 [00:00<?, ?it/s]"
      ]
     },
     "metadata": {},
     "output_type": "display_data"
    },
    {
     "name": "stdout",
     "output_type": "stream",
     "text": [
      "Batch size 64, epoch 93: test accuracy is 0.2643581032752991\n",
      "Train accuracy is 0.5606252551078796\n"
     ]
    },
    {
     "data": {
      "application/vnd.jupyter.widget-view+json": {
       "model_id": "336b3414501e4c6984c3be32dbf82866",
       "version_major": 2,
       "version_minor": 0
      },
      "text/plain": [
       "  0%|          | 0/36 [00:00<?, ?it/s]"
      ]
     },
     "metadata": {},
     "output_type": "display_data"
    },
    {
     "name": "stdout",
     "output_type": "stream",
     "text": [
      "Batch size 64, epoch 94: test accuracy is 0.24577702581882477\n",
      "Train accuracy is 0.5517532825469971\n"
     ]
    },
    {
     "data": {
      "application/vnd.jupyter.widget-view+json": {
       "model_id": "525c7e7989de48818a1426eac80d6901",
       "version_major": 2,
       "version_minor": 0
      },
      "text/plain": [
       "  0%|          | 0/36 [00:00<?, ?it/s]"
      ]
     },
     "metadata": {},
     "output_type": "display_data"
    },
    {
     "name": "stdout",
     "output_type": "stream",
     "text": [
      "Batch size 64, epoch 95: test accuracy is 0.2871621549129486\n",
      "Train accuracy is 0.5589353442192078\n"
     ]
    },
    {
     "data": {
      "application/vnd.jupyter.widget-view+json": {
       "model_id": "a2d330bc2562470e978e57c7aef18675",
       "version_major": 2,
       "version_minor": 0
      },
      "text/plain": [
       "  0%|          | 0/36 [00:00<?, ?it/s]"
      ]
     },
     "metadata": {},
     "output_type": "display_data"
    },
    {
     "name": "stdout",
     "output_type": "stream",
     "text": [
      "Batch size 64, epoch 96: test accuracy is 0.3399493396282196\n",
      "Train accuracy is 0.588931143283844\n"
     ]
    },
    {
     "data": {
      "application/vnd.jupyter.widget-view+json": {
       "model_id": "8b7ef09f821d4632883be0b1a6a8c304",
       "version_major": 2,
       "version_minor": 0
      },
      "text/plain": [
       "  0%|          | 0/36 [00:00<?, ?it/s]"
      ]
     },
     "metadata": {},
     "output_type": "display_data"
    },
    {
     "name": "stdout",
     "output_type": "stream",
     "text": [
      "Batch size 64, epoch 97: test accuracy is 0.3154560923576355\n",
      "Train accuracy is 0.5800591707229614\n"
     ]
    },
    {
     "data": {
      "application/vnd.jupyter.widget-view+json": {
       "model_id": "5c56d1dea3fa41c89c220b2fbc1df1be",
       "version_major": 2,
       "version_minor": 0
      },
      "text/plain": [
       "  0%|          | 0/36 [00:00<?, ?it/s]"
      ]
     },
     "metadata": {},
     "output_type": "display_data"
    },
    {
     "name": "stdout",
     "output_type": "stream",
     "text": [
      "Batch size 64, epoch 98: test accuracy is 0.3268581032752991\n",
      "Train accuracy is 0.5754119157791138\n"
     ]
    },
    {
     "data": {
      "application/vnd.jupyter.widget-view+json": {
       "model_id": "63c3c1fdf6094789b3cb6bc5192446ae",
       "version_major": 2,
       "version_minor": 0
      },
      "text/plain": [
       "  0%|          | 0/36 [00:00<?, ?it/s]"
      ]
     },
     "metadata": {},
     "output_type": "display_data"
    },
    {
     "name": "stdout",
     "output_type": "stream",
     "text": [
      "Batch size 64, epoch 99: test accuracy is 0.3386824429035187\n",
      "Train accuracy is 0.6147021651268005\n"
     ]
    },
    {
     "data": {
      "application/vnd.jupyter.widget-view+json": {
       "model_id": "c17407dbb4564ce6b02fc21099ab9022",
       "version_major": 2,
       "version_minor": 0
      },
      "text/plain": [
       "  0%|          | 0/36 [00:00<?, ?it/s]"
      ]
     },
     "metadata": {},
     "output_type": "display_data"
    },
    {
     "name": "stdout",
     "output_type": "stream",
     "text": [
      "Batch size 64, epoch 100: test accuracy is 0.31798988580703735\n",
      "Train accuracy is 0.6396282315254211\n"
     ]
    },
    {
     "ename": "TypeError",
     "evalue": "'Axes' object is not subscriptable",
     "output_type": "error",
     "traceback": [
      "\u001b[0;31m---------------------------------------------------------------------------\u001b[0m",
      "\u001b[0;31mTypeError\u001b[0m                                 Traceback (most recent call last)",
      "Cell \u001b[0;32mIn[46], line 41\u001b[0m\n\u001b[1;32m     39\u001b[0m \u001b[38;5;28;01mfor\u001b[39;00m idx \u001b[38;5;129;01min\u001b[39;00m \u001b[38;5;28mrange\u001b[39m(\u001b[38;5;28mlen\u001b[39m(batch_sizes)):\n\u001b[1;32m     40\u001b[0m     accuracies \u001b[38;5;241m=\u001b[39m run_trial(batch_sizes[idx], num_epochs_test)\n\u001b[0;32m---> 41\u001b[0m     \u001b[43maxs\u001b[49m\u001b[43m[\u001b[49m\u001b[43midx\u001b[49m\u001b[43m]\u001b[49m\u001b[38;5;241m.\u001b[39mplot(\u001b[38;5;28mrange\u001b[39m(\u001b[38;5;241m1\u001b[39m, num_epochs_test\u001b[38;5;241m+\u001b[39m\u001b[38;5;241m1\u001b[39m), accuracies)\n\u001b[1;32m     42\u001b[0m     axs[idx]\u001b[38;5;241m.\u001b[39mset_title(\u001b[38;5;124mf\u001b[39m\u001b[38;5;124m\"\u001b[39m\u001b[38;5;124mBatch size: \u001b[39m\u001b[38;5;132;01m{\u001b[39;00mbatch_sizes[idx]\u001b[38;5;132;01m}\u001b[39;00m\u001b[38;5;124m\"\u001b[39m)\n\u001b[1;32m     43\u001b[0m     axs[idx]\u001b[38;5;241m.\u001b[39mset_ylim(\u001b[38;5;241m0.15\u001b[39m, \u001b[38;5;241m0.5\u001b[39m)\n",
      "\u001b[0;31mTypeError\u001b[0m: 'Axes' object is not subscriptable"
     ]
    },
    {
     "data": {
      "image/png": "[encoded data removed]",
      "text/plain": [
       "<Figure size 640x480 with 1 Axes>"
      ]
     },
     "metadata": {},
     "output_type": "display_data"
    }
   ],
   "source": [
    "\n",
    "step_size = 0.001\n",
    "\n",
    "opt_init, opt_update, get_params = adam(step_size=step_size)\n",
    "init_params = [mesh_0.params, mesh_1.params, mesh_2.params]\n",
    "init = opt_init(init_params)\n",
    "\n",
    "def evaluate(params, images, targets):\n",
    "    target_class = jnp.argmax(targets, axis=1)\n",
    "    predicted_class = jnp.argmax(batched_aircraft_onn(params, images), axis=1)\n",
    "    return jnp.mean(predicted_class == target_class)\n",
    "\n",
    "def run_trial(batch_size, num_epochs):\n",
    "\n",
    "    def update_fn(i, state):\n",
    "        start = (i * batch_size) % num_train_examples\n",
    "        stop = ((i + 1) * batch_size) % num_train_examples\n",
    "        v, g = value_and_grad(batch_loss)(get_params(state), x_train[start:stop], y_train[start:stop])\n",
    "        return v, opt_update(i, g, state)\n",
    "    \n",
    "    losses = []\n",
    "    opt_state = init\n",
    "    accuracies = []\n",
    "    for epoch in range(num_epochs):\n",
    "        iterator = pbar(range(num_train // batch_size))\n",
    "        for i in iterator:\n",
    "            v, opt_state = update_fn(i, opt_state)\n",
    "            losses.append(v)\n",
    "            iterator.set_description(f\"𝓛: {v:.5f}\")\n",
    "        print(f\"Batch size {batch_size}, epoch {epoch+1}: test accuracy is {evaluate(get_params(opt_state), x_test, y_test).item()}\")\n",
    "        print(f\"Train accuracy is {evaluate(get_params(opt_state), x_train, y_train).item()}\")\n",
    "        accuracies.append(evaluate(get_params(opt_state), x_test, y_test).item())\n",
    "    return accuracies\n",
    "\n",
    "num_epochs_test = 100\n",
    "# batch_sizes = [16, 32, 64, 128]\n",
    "batch_sizes = [64]\n",
    "\n",
    "fig, axs = plt.subplots(len(batch_sizes), 1)\n",
    "for idx in range(len(batch_sizes)):\n",
    "    accuracies = run_trial(batch_sizes[idx], num_epochs_test)\n",
    "    axs[idx].plot(range(1, num_epochs_test+1), accuracies)\n",
    "    axs[idx].set_title(f\"Batch size: {batch_sizes[idx]}\")\n",
    "    axs[idx].set_ylim(0.15, 0.5)\n",
    "\n",
    "plt.tight_layout()\n",
    "plt.show()"
   ]
  },
  {
   "cell_type": "code",
   "execution_count": 58,
   "id": "390a2a17-4ec0-4836-ae93-f2c721b4e5b1",
   "metadata": {},
   "outputs": [
    {
     "data": {
      "text/plain": [
       "Array(0.11186325, dtype=float32)"
      ]
     },
     "execution_count": 58,
     "metadata": {},
     "output_type": "execute_result"
    }
   ],
   "source": [
    "x_test = jnp.array(x_test).astype(np.complex64)\n",
    "y_test = jnp.array(y_test).astype(np.float32)\n",
    "batch_loss(get_params(opt_state), x_test, y_test)"
   ]
  },
  {
   "cell_type": "markdown",
   "id": "d25f1c39-86d4-4cf0-b8f0-b492d7a223c8",
   "metadata": {},
   "source": [
    "## JAX ONN using `haiku` and `optax`\n",
    "\n",
    "Now that we've covered implementing a pure `jax` ONN simulation, let's consider moving the to `haiku` and `optax`, which allows us to leverage a similar interface as `keras` / `pytorch`. This is the method we use to train our hybrid photonic neural network.\n",
    "\n"
   ]
  },
  {
   "cell_type": "code",
   "execution_count": null,
   "id": "aa5bd6ff-daf0-456b-b081-52c7f4145df0",
   "metadata": {},
   "outputs": [],
   "source": [
    "import haiku as hk\n",
    "from simphox.circuit.forward import InSituBackpropLayer\n",
    "import optax\n",
    "from tqdm.notebook import tqdm as pbar"
   ]
  },
  {
   "cell_type": "markdown",
   "id": "3e398c4b-dfac-4bd5-bfdd-3b4c91118239",
   "metadata": {},
   "source": [
    "### Definitions"
   ]
  },
  {
   "cell_type": "code",
   "execution_count": null,
   "id": "4a7d6ace-5bc8-4f9b-9ae9-07a6a3db0104",
   "metadata": {},
   "outputs": [],
   "source": [
    "from typing import Iterator, NamedTuple, Callable, List, Optional\n",
    "from simphox.circuit import ForwardMesh\n",
    "from utils import ONNData\n",
    "from dataclasses import field\n",
    "import wandb\n",
    "\n",
    "class TrainingState(NamedTuple):\n",
    "    params: hk.Params\n",
    "    avg_params: hk.Params\n",
    "    opt_state: optax.OptState\n",
    "\n",
    "@dataclass\n",
    "class HybridONNSimSpec:\n",
    "    n: int = 64\n",
    "    num_layers: int = 3\n",
    "    init_seed: int = 42\n",
    "    triangular: bool = False\n",
    "    batch_size: int = 500\n",
    "    learning_rate: float = 1e-3\n",
    "    avg_param_step_size: float = 1e-2\n",
    "    optimizer: str = \"adam\"\n",
    "    error_args: dict = field(default_factory=dict)\n",
    "    \n",
    "    @property\n",
    "    def config(self):\n",
    "        return {\n",
    "            \"n\": self.n,\n",
    "            \"num_layers\": self.num_layers,\n",
    "            \"triangular\": self.triangular,\n",
    "            \"learning_rate\": self.learning_rate,\n",
    "            \"optimizer\": self.optimizer,\n",
    "            \"batch_size\": self.batch_size,\n",
    "            \"avg_param_step_size\": self.avg_param_step_size,\n",
    "            **self.error_args\n",
    "        }\n",
    "    \n",
    "@dataclass\n",
    "class HybridONNSim:\n",
    "    init_state: TrainingState\n",
    "    opt_state: TrainingState\n",
    "    loss: Callable[[hk.Params, jnp.ndarray, jnp.ndarray], jnp.ndarray]\n",
    "    evaluate: Callable[[hk.Params, jnp.ndarray, jnp.ndarray], jnp.ndarray]\n",
    "    update: Callable[[TrainingState, jnp.ndarray, jnp.ndarray], TrainingState]\n",
    "    run_epoch: Callable[[TrainingState], TrainingState]\n",
    "    grad_error: Callable[[TrainingState], TrainingState]\n",
    "    hyperparams: dict[str, float]\n",
    "\n",
    "def dropout_softmax(outputs, num_classes: int = 10):\n",
    "    return jax.nn.log_softmax(outputs[:num_classes]).astype(jnp.float32)\n",
    "\n",
    "\n",
    "x_train = jnp.array(x_train).astype(np.complex64)\n",
    "y_train = jnp.array(y_train).astype(np.float32)\n",
    "x_test = jnp.array(x_test).astype(np.complex64)\n",
    "y_test = jnp.array(y_test).astype(np.float32)\n",
    "\n",
    "\n",
    "def make_mnist_onn(sim_spec: HybridONNSimSpec, perfect: bool = False) -> HybridONNSim:\n",
    "    np.random.seed(sim_spec.init_seed)\n",
    "    mesh_fn = triangular if sim_spec.triangular else rectangular\n",
    "    meshes = [mesh_fn(random_unitary(sim_spec.n)) for _ in range(sim_spec.num_layers)]\n",
    "    error_args = {} if perfect else sim_spec.error_args\n",
    "    def onn(inputs):\n",
    "        return dropout_softmax(\n",
    "            jnp.abs(hk.Sequential([\n",
    "                InSituBackpropLayer(mesh, activation=jnp.abs, name=f'layer{i}', **error_args)\n",
    "                for i, mesh in enumerate(meshes)\n",
    "            ])(inputs)).T ** 2, 10\n",
    "        ).T\n",
    "    onn_t = hk.without_apply_rng(hk.transform(onn))\n",
    "    \n",
    "    def onn_loss(inputs, labels):\n",
    "        return -jnp.mean(onn(inputs).squeeze() * labels).real\n",
    "    onn_l = hk.without_apply_rng(hk.transform(onn_loss))\n",
    "    return onn_t, onn_l\n",
    "\n",
    "    \n",
    "def make_mnist_onn_run(sim_spec: HybridONNSimSpec) -> HybridONNSim:\n",
    "    onn_t, onn_l = make_mnist_onn(sim_spec, perfect=False)\n",
    "    onn_t_perfect, onn_l_perfect = make_mnist_onn(sim_spec, perfect=True)\n",
    "    \n",
    "    optimizer = optax.adam(sim_spec.learning_rate) if sim_spec.optimizer == \"adam\" else optax.sgd(sim_spec.learning_rate)\n",
    "\n",
    "    @jax.jit\n",
    "    def loss(params, inputs, labels):\n",
    "        return onn_l.apply(params, inputs, labels) \n",
    "\n",
    "    @jax.jit\n",
    "    def evaluate(params, inputs, labels):\n",
    "        target_class = jnp.argmax(labels, axis=1)\n",
    "        predicted_class = jnp.argmax(onn_t.apply(params, inputs), axis=1)\n",
    "        return jnp.mean(predicted_class == target_class)\n",
    "    \n",
    "    @jax.jit\n",
    "    def grad_error(state: TrainingState, inputs: jnp.ndarray, labels: jnp.ndarray):\n",
    "        grads = jnp.hstack(jax.tree_util.tree_flatten(jax.grad(onn_l.apply)(state.params, inputs, labels))[0])\n",
    "        grads_perfect = jnp.hstack(jax.tree_util.tree_flatten(jax.grad(onn_l_perfect.apply)(state.params, inputs, labels))[0])\n",
    "        norm_perfect = jnp.sqrt(jnp.sum(grads_perfect ** 2))\n",
    "        norm_imperfect = jnp.sqrt(jnp.sum(grads ** 2))\n",
    "        return 1 - jnp.sum((grads * grads_perfect) / (norm_imperfect * norm_perfect))\n",
    "    \n",
    "    @jax.jit\n",
    "    def update(state: TrainingState, inputs: jnp.ndarray, labels: jnp.ndarray) -> TrainingState:\n",
    "        \"\"\"Learning rule (stochastic gradient descent).\"\"\"\n",
    "        grads = jax.grad(loss)(state.params, inputs, labels)\n",
    "        updates, opt_state = optimizer.update(grads, state.opt_state)\n",
    "        params = optax.apply_updates(state.params, updates)\n",
    "        avg_params = optax.incremental_update(params, state.avg_params, step_size=sim_spec.avg_param_step_size)\n",
    "        return TrainingState(params, avg_params, opt_state)\n",
    "    \n",
    "    init_params = onn_l.init(jax.random.PRNGKey(seed=42), x_train[:sim_spec.batch_size], y_train[:sim_spec.batch_size])\n",
    "    init_state = TrainingState(init_params, init_params, optimizer.init(init_params))\n",
    "    \n",
    "    def run_epoch(state: TrainingState, partition: int = 0, num_partitions: int = 1) -> TrainingState:\n",
    "        p, k = partition, x_train.shape[0] // num_partitions\n",
    "        xt, yt = x_train[p * k:(p + 1) * k], y_train[p * k:(p + 1) * k]\n",
    "        for i in range(xt.shape[0] // sim_spec.batch_size):\n",
    "            state = update(\n",
    "                state,\n",
    "                xt[sim_spec.batch_size * i:sim_spec.batch_size * (i + 1)],\n",
    "                yt[sim_spec.batch_size * i:sim_spec.batch_size * (i + 1)]\n",
    "            )\n",
    "        return state\n",
    "    \n",
    "    return HybridONNSim(\n",
    "        init_state, init_state, loss,\n",
    "        evaluate, update,\n",
    "        run_epoch, grad_error,\n",
    "        sim_spec.config\n",
    "    )"
   ]
  },
  {
   "cell_type": "code",
   "execution_count": null,
   "id": "c23b950e-6233-4d8c-892b-8910674be0c2",
   "metadata": {},
   "outputs": [],
   "source": [
    "api = wandb.Api()\n",
    "runs = api.runs('old-onn-notebook')\n",
    "configs = [run.config for run in runs]"
   ]
  },
  {
   "cell_type": "code",
   "execution_count": null,
   "id": "574e8bb1-4078-4ff4-acbf-ac113aaef90d",
   "metadata": {},
   "outputs": [],
   "source": [
    "import itertools\n",
    "\n",
    "num_epochs = 100\n",
    "\n",
    "iterator = pbar(list(\n",
    "    itertools.product(\n",
    "        (0, 0.025, 0.05), # io_amp_error_std\n",
    "        (0, 0.025, 0.05), # io_phase_error_std\n",
    "        (0, 0.05), # loss_db_std\n",
    "        (0, 0.005, 0.01, 0.02), # tap_pd_shot_noise\n",
    "        (600,), # batch_size\n",
    "        (\"sgd\", \"adam\")\n",
    "    )\n",
    "))\n",
    "\n",
    "LOG = True\n",
    "\n",
    "# This loop runs the entire experiment for various batch sizes (the paper uses batch size 600 because it provides data the fastest and also leads to a better outcome).\n",
    "for io_amp_error_std, io_phase_error_std, loss_db_std, tap_pd_shot_noise, batch_size, optimizer in iterator:\n",
    "    num_partitions = {\n",
    "        5: 50,\n",
    "        30: 10,\n",
    "        150: 2,\n",
    "        600: 1\n",
    "    }\n",
    "    onn_spec = HybridONNSimSpec(\n",
    "        batch_size=batch_size,\n",
    "        optimizer=optimizer,\n",
    "        learning_rate=2 if optimizer == \"sgd\" else 1e-3,\n",
    "        error_args={\n",
    "            \"tap_pd_shot_noise\": tap_pd_shot_noise,\n",
    "            \"io_amp_error_std\": io_amp_error_std,\n",
    "            \"io_phase_error_std\": io_phase_error_std,\n",
    "            \"loss_db_std\": loss_db_std\n",
    "        }\n",
    "    )\n",
    "    if onn_spec.config in configs:\n",
    "        print(f'Already ran {onn_spec.config}')\n",
    "        continue\n",
    "    onn = make_mnist_onn_run(onn_spec)\n",
    "    if LOG:\n",
    "        onn.run = wandb.init(project=\"old-onn-notebook\", entity=\"sunfishho\", config=onn.hyperparams)\n",
    "    for _ in pbar(range(num_epochs // num_partitions[batch_size])):\n",
    "        for p in range(num_partitions[batch_size]):\n",
    "            onn.opt_state = onn.run_epoch(onn.opt_state, p, num_partitions[batch_size])\n",
    "            if not LOG:\n",
    "                print(1 - onn.evaluate(onn.opt_state.avg_params, x_train, y_train).item())\n",
    "                print(onn.grad_error(onn.opt_state, x_train[:10], y_train[:10]).item())\n",
    "            else:\n",
    "                wandb.log({\n",
    "                    \"train/error\": 1 - onn.evaluate(onn.opt_state.avg_params, x_train, y_train).item(),\n",
    "                    \"eval/error\": 1 - onn.evaluate(onn.opt_state.avg_params, x_test, y_test).item(),\n",
    "                    \"train/loss\": onn.loss(onn.opt_state.avg_params, x_train, y_train).item(),\n",
    "                    \"eval/loss\": onn.loss(onn.opt_state.avg_params, x_test, y_test).item(),\n",
    "                    \"grad/error_small\": onn.grad_error(onn.opt_state, x_train[:10], y_train[:10]).mean().item(),\n",
    "                    \"grad/error_batch\": onn.grad_error(onn.opt_state, x_train[:600], y_train[:600]).mean().item(),\n",
    "                })"
   ]
  },
  {
   "cell_type": "markdown",
   "id": "28bf60d9-0c86-4efc-b39a-2d9f6ff13c18",
   "metadata": {},
   "source": [
    "## Energy and latency calculation"
   ]
  },
  {
   "cell_type": "code",
   "execution_count": null,
   "id": "8f4164d3-34ba-4600-9b29-98cc231779ac",
   "metadata": {},
   "outputs": [],
   "source": [
    "def e_in(e_mod, e_dac, m, n, **kwargs):\n",
    "    return (2 * e_mod + 2 * e_dac) * m * n\n",
    "\n",
    "def e_out(e_tia, e_adc, m, n, **kwargs):\n",
    "    return (4 * e_tia + 4 * e_adc) * m * n\n",
    "\n",
    "def e_grad(e_tia, e_switch, n, **kwargs):\n",
    "    return (2 * e_tia + 10 * e_switch) * n ** 2\n",
    "\n",
    "def e_mvm_dig(e_flop, **kwargs):\n",
    "    return 6 * e_flop * m * n ** 2\n",
    "\n",
    "def e_nl_dig(e_flop, **kwargs):\n",
    "    return 3 * e_flop * m * n\n",
    "\n",
    "def e_nl_alg(e_flop, m, n, **kwargs):\n",
    "    return e_nl * m * n\n",
    "\n",
    "def e_ioprep(e_flop, e_mode, m, n, **kwargs):\n",
    "    return 6 * e_flop * m * n + e_mode * m * n\n",
    "    \n",
    "def e_mvm_alg(**kwargs):\n",
    "    return 2 * e_ioprep(**kwargs) + e_in(**kwargs) + e_out(**kwargs)\n",
    "\n",
    "def e_grad_dig(**kwargs):\n",
    "    return 2 * e_mvm_dig(**kwargs)\n",
    "\n",
    "def e_grad_alg(**kwargs):\n",
    "    return 2 * e_mvm_alg(**kwargs) + 2 * e_ioprep(**kwargs)\\\n",
    "           + 2 * e_in(**kwargs) + e_out(**kwargs) + e_grad(**kwargs)"
   ]
  },
  {
   "cell_type": "markdown",
   "id": "064a66ea-1d83-4257-a56f-c80689cd3fc2",
   "metadata": {},
   "source": [
    "## Constants and sweeps\n",
    "\n",
    "Constants all expressed in fJ"
   ]
  },
  {
   "cell_type": "code",
   "execution_count": null,
   "id": "d94345a0-b1a4-451a-b1d2-7a6c37510d80",
   "metadata": {},
   "outputs": [],
   "source": [
    "import xarray as xr\n",
    "\n",
    "# all in fJ\n",
    "\n",
    "# Modulator energy\n",
    "e_mod = 1\n",
    "\n",
    "# Switch energy\n",
    "e_switch = 1\n",
    "\n",
    "# TIA energy\n",
    "e_tia = 98\n",
    "\n",
    "# Communication energy (on an efficient digital circuit)\n",
    "e_comm = 0  # change to 1000 for realistic estimates\n",
    "\n",
    "# DAC energy\n",
    "# e_dac = 5000  # using a DAC (costly)\n",
    "e_dac = 16 * (e_mod + e_comm / 8)   # using digital control phase shifter\n",
    "\n",
    "# ADC energy\n",
    "e_adc = 1380\n",
    "\n",
    "# FLOP energy (on an efficient digital circuit)\n",
    "e_mul = 200  # assumes Horowitz estimate for 45 nm node\n",
    "e_add = 30  # assumes Horowitz estimate for 45 nm node\n",
    "e_flop = (e_mul * 3 + e_add * 5) / 6 # e_flop = e_mac / 2\n",
    "\n",
    "# Energy of an optical mode\n",
    "e_mode = 1000\n",
    "\n",
    "# Sweep batch size (m) and number of modes (n)\n",
    "ms = np.arange(1, 257, 2)\n",
    "ns = np.arange(4, 257, 2)\n",
    "\n",
    "e_dig = e_flop + e_comm / 2 # 1 mac, 2 flops\n",
    "e_dig"
   ]
  },
  {
   "cell_type": "markdown",
   "id": "cdaf1954-9b63-4c86-ad85-44d23f11f089",
   "metadata": {},
   "source": [
    "## Evaluation"
   ]
  },
  {
   "cell_type": "code",
   "execution_count": null,
   "id": "296d9560-a40b-4d99-9899-a267cbe61538",
   "metadata": {},
   "outputs": [],
   "source": [
    "results = []\n",
    "\n",
    "for m in ms:\n",
    "    results.append([])\n",
    "    for n in ns:\n",
    "        kwargs = {\n",
    "            'm': m,\n",
    "            'n': n,\n",
    "            'e_mod': e_mod,\n",
    "            'e_switch': e_switch,\n",
    "            'e_tia': e_tia,\n",
    "            'e_dac': e_dac,\n",
    "            'e_adc': e_adc,\n",
    "            'e_flop': e_flop,\n",
    "            'e_mode': e_mode\n",
    "        }\n",
    "        results[-1].append([\n",
    "            e_mvm_alg(**kwargs) / (6 * m * n ** 2),\n",
    "            e_grad_alg(**kwargs) / (6 * m * n ** 2),\n",
    "        ])\n",
    "energy_scaling = xr.DataArray(\n",
    "    data=np.array(results),\n",
    "    dims=['Batch size ($M$)', 'Number of modes ($N$)', 'stage'],\n",
    "    coords={'Batch size ($M$)': ms,\n",
    "            'Number of modes ($N$)': ns,\n",
    "            'stage': ['In situ MVM', 'In situ VJP/grad']\n",
    "           }\n",
    ").transpose('stage', 'Number of modes ($N$)', 'Batch size ($M$)')"
   ]
  },
  {
   "cell_type": "code",
   "execution_count": null,
   "id": "deadae5d-518d-4930-8baf-bf0b08f7f16a",
   "metadata": {},
   "outputs": [],
   "source": [
    "import matplotlib.pyplot as plt\n",
    "import matplotlib\n",
    "plt.rcParams.update({\"text.usetex\": True})\n",
    "plt.rcParams['text.latex.preamble'] = r\"\\usepackage{bm} \\usepackage{amsmath}\"\n",
    "import time\n",
    "\n",
    "plt.figure(dpi=300, figsize=(10, 3))\n",
    "\n",
    "vjp_grad = 1000 / energy_scaling.sel(stage='In situ VJP/grad')\n",
    "mvm = 1000 / energy_scaling.sel(stage='In situ MVM')\n",
    "dig = 1000 / e_dig\n",
    "\n",
    "plt.subplot(122)\n",
    "vjp_grad.plot(cmap='hot', vmin=0, vmax=50)\n",
    "vjp_grad.plot.contour(levels=[dig / 2])\n",
    "vjp_grad.plot.contour(levels=[dig], linestyles='dashed')\n",
    "vjp_grad.plot.contour(levels=[dig * 2], linestyles='-.')\n",
    "plt.title(r'\\textit{In situ} VJP/grad energy efficiency (TOPS / W)')\n",
    "plt.subplot(121)\n",
    "mvm.plot(cmap='hot', vmin=0, vmax=150)\n",
    "mvm.plot.contour(levels=[dig])\n",
    "mvm.plot.contour(levels=[dig * 2], linestyles='dashed')\n",
    "mvm.plot.contour(levels=[dig * 4], linestyles='-.')\n",
    "plt.tight_layout()\n",
    "plt.title(r'\\textit{In situ} MVM energy efficiency (TOPS / W)')\n",
    "\n",
    "plt.savefig('energy_scalability.pdf', bbox_inches=None)"
   ]
  },
  {
   "cell_type": "markdown",
   "id": "ccad4738-685c-47cc-a5a9-81c347e2f281",
   "metadata": {},
   "source": [
    "## 8-bit phase error for `N = 64` balanced binary tree (for MNIST simulations)"
   ]
  },
  {
   "cell_type": "code",
   "execution_count": null,
   "id": "0d45cc8e-ffad-4895-81a1-f3c1fa1526dc",
   "metadata": {},
   "outputs": [],
   "source": [
    "from simphox.circuit import balanced_tree\n",
    "import numpy as np\n",
    "from tqdm.notebook import tqdm as pbar\n",
    "res_num = []\n",
    "res_act = []\n",
    "num_samples = 1000\n",
    "n_bits =8\n",
    "\n",
    "for i in pbar(range(num_samples)):\n",
    "    tree = balanced_tree(64)\n",
    "    matrix_fn = tree.matrix_fn(use_jax=False)\n",
    "    thetas, phis, gammas = tree.params\n",
    "    thetas_num = np.floor(np.mod(thetas, 2 * np.pi) / (2 * np.pi) * 2 ** n_bits) / 2 ** n_bits * (2 * np.pi) \n",
    "    phis_num = np.floor(np.mod(phis, 2 * np.pi) / (2 * np.pi) * 2 ** n_bits) / 2 ** n_bits * (2 * np.pi)\n",
    "    res_num.append(matrix_fn((thetas_num, phis_num, gammas))[-1])\n",
    "    res_act.append(matrix_fn()[-1])"
   ]
  },
  {
   "cell_type": "code",
   "execution_count": null,
   "id": "8d8b5647-7d18-48b4-827a-f0e05756ef09",
   "metadata": {},
   "outputs": [],
   "source": [
    "phase_error = np.minimum(np.mod(np.angle(res_act).flatten() - np.angle(res_num).flatten(), 2 * np.pi), 0.6)\n",
    "phase_error_mean = phase_error.mean()\n",
    "phase_error = phase_error - phase_error_mean\n",
    "phase_error_std = np.std(phase_error)\n",
    "print(f'Phase error for {n_bits}-bit, N = 64: {phase_error_std}')"
   ]
  },
  {
   "cell_type": "markdown",
   "id": "1522e7fa-1510-48c7-9eed-065e7b1f8cd2",
   "metadata": {},
   "source": [
    "## Using `xarray` to organize and analyze the run histories from WandB."
   ]
  },
  {
   "cell_type": "code",
   "execution_count": null,
   "id": "63eccf74-d4e6-498e-ae37-6248273dad5c",
   "metadata": {},
   "outputs": [],
   "source": [
    "import xarray as xr\n",
    "\n",
    "LOAD_DATA = False\n",
    "\n",
    "if LOAD_DATA:  \n",
    "    runs = api.runs('sunilpai/mnist-onn')\n",
    "    configs = [run.config for run in runs]\n",
    "    histories = [run.history for run in runs]\n",
    "\n",
    "    da = xr.DataArray(coords={\n",
    "        'io_amp_error_std': [0, 0.025, 0.05],\n",
    "        'io_phase_error_std': [0, 0.025, 0.05],\n",
    "        'loss_db_std': [0, 0.05],\n",
    "        'tap_pd_shot_noise': [0, 0.005, 0.01, 0.02],\n",
    "        'optimizer': [\"sgd\", \"adam\"],\n",
    "        'param': histories[0].columns,\n",
    "        'epoch': np.arange(100)\n",
    "    }, dims=['io_amp_error_std', 'io_phase_error_std', 'loss_db_std', 'tap_pd_shot_noise', 'batch_size', 'optimizer', 'param', 'epoch'])\n",
    "\n",
    "    for i, config in enumerate(configs[:144]):  # latest 144 runs are what we want.\n",
    "        da.loc[\n",
    "            config['io_amp_error_std'],\n",
    "            config['io_phase_error_std'],\n",
    "            config['loss_db_std'],\n",
    "            config['tap_pd_shot_noise'],\n",
    "            config['batch_size'],\n",
    "            config['optimizer']\n",
    "        ] = histories[i].to_numpy().T\n",
    "    da.to_netcdf('sim_data.nc')\n",
    "else:\n",
    "    da = xr.open_dataarray('sim_data.nc')"
   ]
  },
  {
   "cell_type": "code",
   "execution_count": null,
   "id": "00304376-e37d-4df2-946d-79d5d5d5a25b",
   "metadata": {},
   "outputs": [],
   "source": [
    "import matplotlib.pyplot as plt\n",
    "plt.rcParams.update({\"text.usetex\": True})\n",
    "plt.rcParams['text.latex.preamble'] = r\"\\usepackage{bm} \\usepackage{amsmath}\"\n",
    "\n",
    "def plot_group(da, hparam_name, val, param='eval/error', optimizer='sgd', label=None):\n",
    "    dims = list(da.dims)\n",
    "    dims.remove('epoch')\n",
    "    dims.remove(hparam_name)\n",
    "    dims.remove('optimizer')\n",
    "    dims.remove('param')\n",
    "    y = da.loc[{'param': param, 'optimizer': 'sgd', hparam_name: val}].mean(dims)\n",
    "    error = da.loc[{'param': param, 'optimizer': 'sgd', hparam_name: val}].std(dims)\n",
    "    print(y[-1].data, error[-1].data)\n",
    "    plt.plot(da.epoch, y, label=label)\n",
    "    plt.fill_between(da.epoch, y - error, y + error, alpha=0.5)\n",
    "    \n",
    "\n",
    "plt.figure(dpi=300, figsize=(6, 2))\n",
    "plt.subplot(121)\n",
    "plot_group(da, 'tap_pd_shot_noise', 0, label='$s_{\\mathrm{tap}} = 0.00$')\n",
    "plot_group(da, 'tap_pd_shot_noise', 0.01, label='$s_{\\mathrm{tap}} = 0.01$')\n",
    "plot_group(da, 'tap_pd_shot_noise', 0.02, label='$s_{\\mathrm{tap}} = 0.02$')\n",
    "plt.legend()\n",
    "plt.title('Tap photodiode noise error')\n",
    "plt.ylim((0, 0.15))\n",
    "plt.subplot(122)\n",
    "plot_group(da, 'io_phase_error_std', 0, label='$\\sigma_{\\phi} = 0.000$')\n",
    "plot_group(da, 'io_phase_error_std', 0.025, label='$\\sigma_{\\phi} = 0.025$')\n",
    "plot_group(da, 'io_phase_error_std', 0.05, label='$\\sigma_{\\phi} = 0.050$')\n",
    "plt.legend()\n",
    "plt.title('Phase measurement error')\n",
    "plt.ylim((0, 0.15))\n",
    "plt.savefig('backprop_mnist_batch.pdf', bbox_inches=None)\n",
    "# plt.legend([, '$s_{\\mathrm{noise}} = 0.01$', '$s_{\\mathrm{noise}} = 0.02$'])\n",
    "# std = da.sel(param='eval/error', tap_pd_shot_noise=0, optimizer='sgd').std(['io_amp_error_std', 'io_phase_error_std', 'loss_db_std', 'batch_size'])"
   ]
  },
  {
   "cell_type": "markdown",
   "id": "d7827a8f-c442-4572-807e-87915e0b5196",
   "metadata": {},
   "source": [
    "## Noise analysis"
   ]
  },
  {
   "cell_type": "code",
   "execution_count": null,
   "id": "e3e502d4-09ff-49b4-b206-533c3aa67f53",
   "metadata": {},
   "outputs": [],
   "source": [
    "import numpy as np\n",
    "import pandas as pd\n",
    "\n",
    "def electrical_power(responsivity, average_received_power_amps, gain):\n",
    "    return gain ** 2 * responsivity ** 2 * average_received_power_amps ** 2\n",
    "    \n",
    "def thermal_noise(sampling_frequency_hz, feedback_resistance, kt, noise_figure):\n",
    "    return 4 * kt / feedback_resistance * sampling_frequency_hz * noise_figure\n",
    "    \n",
    "def shot_noise(responsivity, average_received_power_amps, gain, impact_ionization_ka,\n",
    "               sampling_frequency_hz, q, dark_current):\n",
    "    fa = impact_ionization_ka * gain + (1 - impact_ionization_ka) * (2 - 1 / gain)\n",
    "    return 4 * q * gain ** 2 * fa * (responsivity * average_received_power_amps + dark_current) * sampling_frequency_hz\n",
    "\n",
    "def noise_evaluator(responsivity=0.85,\n",
    "                    average_received_power_amps=1000e-9,\n",
    "                    gain=10,\n",
    "                    impact_ionization_ka=0.02,\n",
    "                    sampling_frequency_hz=1e9,\n",
    "                    feedback_resistance=2e3,\n",
    "                    kt=1.38e-23 * 293.15,\n",
    "                    q=1.6e-19,\n",
    "                    dark_current=20e-9,\n",
    "                    noise_figure=1.5,\n",
    "                    tia_noise=320e-9,\n",
    "                    n=64,\n",
    "                    include_thermal=True):\n",
    "    signal = electrical_power(responsivity, average_received_power_amps, gain)\n",
    "    noise_th = thermal_noise(sampling_frequency_hz, feedback_resistance, kt, noise_figure) if include_thermal else 0\n",
    "    noise_shot = shot_noise(responsivity, average_received_power_amps, gain, impact_ionization_ka,\n",
    "               sampling_frequency_hz, q, dark_current)\n",
    "    return {\n",
    "        'signal': signal,\n",
    "        'thermal_noise': noise_th,\n",
    "        'shot_noise': noise_shot,\n",
    "        'tia_noise': tia_noise ** 2,\n",
    "        'snr': 10 * np.log10(signal / (noise_th + noise_shot)),\n",
    "        'snr_std': 5 * np.log10(signal / (noise_th + noise_shot)),\n",
    "        's_tap_opt': np.sqrt((noise_th + noise_shot) / signal / n), # rescale by average power to estimate s_tap\n",
    "        's_tap_total': np.sqrt((noise_th + noise_shot + tia_noise ** 2) / signal / n) # rescale by average power to estimate s_tap\n",
    "    }\n",
    "\n",
    "pd.DataFrame(noise_evaluator(), index=['value']).T"
   ]
  },
  {
   "cell_type": "code",
   "execution_count": null,
   "id": "de0018dc-66d4-4b99-90db-710811eb3436",
   "metadata": {},
   "outputs": [],
   "source": []
  }
 ],
 "metadata": {
  "kernelspec": {
   "display_name": "Python 3.10",
   "language": "python",
   "name": "python3.10"
  },
  "language_info": {
   "codemirror_mode": {
    "name": "ipython",
    "version": 3
   },
   "file_extension": ".py",
   "mimetype": "text/x-python",
   "name": "python",
   "nbconvert_exporter": "python",
   "pygments_lexer": "ipython3",
   "version": "3.10.6"
  }
 },
 "nbformat": 4,
 "nbformat_minor": 5
}
